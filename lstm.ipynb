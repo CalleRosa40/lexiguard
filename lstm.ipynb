{
  "cells": [
    {
      "cell_type": "markdown",
      "metadata": {
        "id": "8ChnD36qHhuy"
      },
      "source": [
        "# LexiGuard: LSTM (final model)\n",
        "\n",
        "[![Colab](https://colab.research.google.com/assets/colab-badge.svg)](https://colab.research.google.com/github/CalleRosa40/lexiguard/blob/main/lstm.ipynb)\n",
        "\n",
        "Please run `data_preprocessing.ipynb` to create data file(s)."
      ]
    },
    {
      "cell_type": "markdown",
      "metadata": {
        "id": "sLTUtsD6HupB"
      },
      "source": [
        "## Setup"
      ]
    },
    {
      "cell_type": "code",
      "execution_count": 1,
      "metadata": {
        "colab": {
          "base_uri": "https://localhost:8080/"
        },
        "id": "nisbn3mTG0fj",
        "outputId": "c3a65a47-0bea-4de2-c594-1b5ca57dec48"
      },
      "outputs": [],
      "source": [
        "# Python standard lib\n",
        "import time; full_run_time_start = time.time() # start timing exec right away\n",
        "import pickle\n",
        "\n",
        "# other \"usual suspects\"\n",
        "import pandas as pd\n",
        "\n",
        "# scikit-learn\n",
        "from sklearn.model_selection import train_test_split\n",
        "\n",
        "# imbalanced-learn\n",
        "from imblearn.over_sampling import SMOTE\n",
        "\n",
        "# TensorFlow\n",
        "from tensorflow.keras.preprocessing.text import Tokenizer\n",
        "from tensorflow.keras.preprocessing.sequence import pad_sequences\n",
        "from tensorflow.keras.models import Sequential\n",
        "from tensorflow.keras.layers import Embedding, LSTM, Dense\n",
        "\n",
        "# display all df columns (default is 20)\n",
        "pd.options.display.max_columns = None\n",
        "\n",
        "# show all data in columns\n",
        "pd.options.display.max_colwidth = None\n",
        "\n",
        "# load utility functions\n",
        "%run functions.ipynb"
      ]
    },
    {
      "cell_type": "markdown",
      "metadata": {
        "id": "-MP847vfIJMN"
      },
      "source": [
        "## Load data"
      ]
    },
    {
      "cell_type": "code",
      "execution_count": 2,
      "metadata": {
        "id": "r6YNY0NIIL4d"
      },
      "outputs": [
        {
          "data": {
            "text/plain": [
              "(4984, 6)"
            ]
          },
          "execution_count": 2,
          "metadata": {},
          "output_type": "execute_result"
        }
      ],
      "source": [
        "# Watch out which file is loaded here! Full data or just sample?\n",
        "df = pd.read_csv('data/lexiguard_data_5000.csv')\n",
        "df.shape"
      ]
    },
    {
      "cell_type": "code",
      "execution_count": 3,
      "metadata": {},
      "outputs": [
        {
          "data": {
            "text/html": [
              "<div>\n",
              "<style scoped>\n",
              "    .dataframe tbody tr th:only-of-type {\n",
              "        vertical-align: middle;\n",
              "    }\n",
              "\n",
              "    .dataframe tbody tr th {\n",
              "        vertical-align: top;\n",
              "    }\n",
              "\n",
              "    .dataframe thead th {\n",
              "        text-align: right;\n",
              "    }\n",
              "</style>\n",
              "<table border=\"1\" class=\"dataframe\">\n",
              "  <thead>\n",
              "    <tr style=\"text-align: right;\">\n",
              "      <th></th>\n",
              "      <th>raw</th>\n",
              "      <th>clean</th>\n",
              "      <th>clean_pp</th>\n",
              "      <th>clean_pp_lemma</th>\n",
              "      <th>clean_pp_lemma_stop</th>\n",
              "      <th>toxic</th>\n",
              "    </tr>\n",
              "  </thead>\n",
              "  <tbody>\n",
              "    <tr>\n",
              "      <th>0</th>\n",
              "      <td>Naturally you can feel it in your urine. \\nThat's one of the common expressions in the Germanic languages and the hallmark of those who, after the fact, say they knew that all along.   ;)</td>\n",
              "      <td>Naturally you can feel it in your urine. That's one of the common expressions in the Germanic languages and the hallmark of those who, after the fact, say they knew that all along. ;)</td>\n",
              "      <td>naturally you can feel it in your urine that 's one of the common expressions in the germanic languages and the hallmark of those who after the fact say they knew that all along</td>\n",
              "      <td>naturally you can feel it in your urine that be one of the common expression in the germanic language and the hallmark of those who after the fact say they know that all along</td>\n",
              "      <td>naturally feel urine common expression germanic language hallmark fact know</td>\n",
              "      <td>0</td>\n",
              "    </tr>\n",
              "    <tr>\n",
              "      <th>1</th>\n",
              "      <td>Yum!  What's not to love: water+maple syrup - together.</td>\n",
              "      <td>Yum! What's not to love: water+maple syrup - together.</td>\n",
              "      <td>yum what 's not to love water+maple syrup together</td>\n",
              "      <td>yum what be not to love water+maple syrup together</td>\n",
              "      <td>yum love water+maple syrup</td>\n",
              "      <td>0</td>\n",
              "    </tr>\n",
              "    <tr>\n",
              "      <th>2</th>\n",
              "      <td>Catou I will wager that mutual fund sales will be just as strong this RRSP season as last year.  The fact is that your typical mutual fund owner isn't going to suddenly discover DIY investing in individual stocks and salesperson at the bank isn't going to suddenly abandon the sales pitch for lower cost ETFs or GICs.</td>\n",
              "      <td>Catou I will wager that mutual fund sales will be just as strong this RRSP season as last year. The fact is that your typical mutual fund owner isn't going to suddenly discover DIY investing in individual stocks and salesperson at the bank isn't going to suddenly abandon the sales pitch for lower cost ETFs or GICs.</td>\n",
              "      <td>catou i will wager that mutual fund sales will be just as strong this rrsp season as last year the fact is that your typical mutual fund owner is n't going to suddenly discover diy investing in individual stocks and salesperson at the bank is n't going to suddenly abandon the sales pitch for lower cost etfs or gics</td>\n",
              "      <td>catou i will wager that mutual fund sale will be just as strong this rrsp season as last year the fact be that your typical mutual fund owner be not go to suddenly discover diy invest in individual stock and salesperson at the bank be not go to suddenly abandon the sale pitch for low cost etf or gic</td>\n",
              "      <td>catou wager mutual fund sale strong rrsp season year fact typical mutual fund owner go suddenly discover diy invest individual stock salesperson bank go suddenly abandon sale pitch low cost etf gic</td>\n",
              "      <td>0</td>\n",
              "    </tr>\n",
              "    <tr>\n",
              "      <th>3</th>\n",
              "      <td>\"The shortage of priests is not a shortage of vocations but a shortness of sight.\"\\n\\nExactly! Very well put!</td>\n",
              "      <td>\"The shortage of priests is not a shortage of vocations but a shortness of sight.\" Exactly! Very well put!</td>\n",
              "      <td>the shortage of priests is not a shortage of vocations but a shortness of sight exactly very well put</td>\n",
              "      <td>the shortage of priest be not a shortage of vocation but a shortness of sight exactly very well put</td>\n",
              "      <td>shortage priest shortage vocation shortness sight exactly</td>\n",
              "      <td>0</td>\n",
              "    </tr>\n",
              "    <tr>\n",
              "      <th>4</th>\n",
              "      <td>I dont disagree with that. It takes money to deal drugs. Street level drug sales people, they nit really dealers, are from many parts of the federal population.</td>\n",
              "      <td>I dont disagree with that. It takes money to deal drugs. Street level drug sales people, they nit really dealers, are from many parts of the federal population.</td>\n",
              "      <td>i do nt disagree with that it takes money to deal drugs street level drug sales people they nit really dealers are from many parts of the federal population</td>\n",
              "      <td>i do not disagree with that it take money to deal drug street level drug sale people they nit really dealer be from many part of the federal population</td>\n",
              "      <td>not disagree take money deal drug street level drug sale people nit dealer part federal population</td>\n",
              "      <td>0</td>\n",
              "    </tr>\n",
              "  </tbody>\n",
              "</table>\n",
              "</div>"
            ],
            "text/plain": [
              "                                                                                                                                                                                                                                                                                                                             raw  \\\n",
              "0                                                                                                                                    Naturally you can feel it in your urine. \\nThat's one of the common expressions in the Germanic languages and the hallmark of those who, after the fact, say they knew that all along.   ;)   \n",
              "1                                                                                                                                                                                                                                                                        Yum!  What's not to love: water+maple syrup - together.   \n",
              "2  Catou I will wager that mutual fund sales will be just as strong this RRSP season as last year.  The fact is that your typical mutual fund owner isn't going to suddenly discover DIY investing in individual stocks and salesperson at the bank isn't going to suddenly abandon the sales pitch for lower cost ETFs or GICs.   \n",
              "3                                                                                                                                                                                                                  \"The shortage of priests is not a shortage of vocations but a shortness of sight.\"\\n\\nExactly! Very well put!   \n",
              "4                                                                                                                                                               I dont disagree with that. It takes money to deal drugs. Street level drug sales people, they nit really dealers, are from many parts of the federal population.   \n",
              "\n",
              "                                                                                                                                                                                                                                                                                                                          clean  \\\n",
              "0                                                                                                                                       Naturally you can feel it in your urine. That's one of the common expressions in the Germanic languages and the hallmark of those who, after the fact, say they knew that all along. ;)   \n",
              "1                                                                                                                                                                                                                                                                        Yum! What's not to love: water+maple syrup - together.   \n",
              "2  Catou I will wager that mutual fund sales will be just as strong this RRSP season as last year. The fact is that your typical mutual fund owner isn't going to suddenly discover DIY investing in individual stocks and salesperson at the bank isn't going to suddenly abandon the sales pitch for lower cost ETFs or GICs.   \n",
              "3                                                                                                                                                                                                                    \"The shortage of priests is not a shortage of vocations but a shortness of sight.\" Exactly! Very well put!   \n",
              "4                                                                                                                                                              I dont disagree with that. It takes money to deal drugs. Street level drug sales people, they nit really dealers, are from many parts of the federal population.   \n",
              "\n",
              "                                                                                                                                                                                                                                                                                                                       clean_pp  \\\n",
              "0                                                                                                                                             naturally you can feel it in your urine that 's one of the common expressions in the germanic languages and the hallmark of those who after the fact say they knew that all along   \n",
              "1                                                                                                                                                                                                                                                                            yum what 's not to love water+maple syrup together   \n",
              "2  catou i will wager that mutual fund sales will be just as strong this rrsp season as last year the fact is that your typical mutual fund owner is n't going to suddenly discover diy investing in individual stocks and salesperson at the bank is n't going to suddenly abandon the sales pitch for lower cost etfs or gics   \n",
              "3                                                                                                                                                                                                                         the shortage of priests is not a shortage of vocations but a shortness of sight exactly very well put   \n",
              "4                                                                                                                                                                  i do nt disagree with that it takes money to deal drugs street level drug sales people they nit really dealers are from many parts of the federal population   \n",
              "\n",
              "                                                                                                                                                                                                                                                                                                 clean_pp_lemma  \\\n",
              "0                                                                                                                               naturally you can feel it in your urine that be one of the common expression in the germanic language and the hallmark of those who after the fact say they know that all along   \n",
              "1                                                                                                                                                                                                                                                            yum what be not to love water+maple syrup together   \n",
              "2  catou i will wager that mutual fund sale will be just as strong this rrsp season as last year the fact be that your typical mutual fund owner be not go to suddenly discover diy invest in individual stock and salesperson at the bank be not go to suddenly abandon the sale pitch for low cost etf or gic   \n",
              "3                                                                                                                                                                                                           the shortage of priest be not a shortage of vocation but a shortness of sight exactly very well put   \n",
              "4                                                                                                                                                       i do not disagree with that it take money to deal drug street level drug sale people they nit really dealer be from many part of the federal population   \n",
              "\n",
              "                                                                                                                                                                                     clean_pp_lemma_stop  \\\n",
              "0                                                                                                                            naturally feel urine common expression germanic language hallmark fact know   \n",
              "1                                                                                                                                                                             yum love water+maple syrup   \n",
              "2  catou wager mutual fund sale strong rrsp season year fact typical mutual fund owner go suddenly discover diy invest individual stock salesperson bank go suddenly abandon sale pitch low cost etf gic   \n",
              "3                                                                                                                                              shortage priest shortage vocation shortness sight exactly   \n",
              "4                                                                                                     not disagree take money deal drug street level drug sale people nit dealer part federal population   \n",
              "\n",
              "   toxic  \n",
              "0      0  \n",
              "1      0  \n",
              "2      0  \n",
              "3      0  \n",
              "4      0  "
            ]
          },
          "execution_count": 3,
          "metadata": {},
          "output_type": "execute_result"
        }
      ],
      "source": [
        "df.head()"
      ]
    },
    {
      "cell_type": "code",
      "execution_count": 4,
      "metadata": {},
      "outputs": [
        {
          "name": "stdout",
          "output_type": "stream",
          "text": [
            "<class 'pandas.core.frame.DataFrame'>\n",
            "RangeIndex: 4984 entries, 0 to 4983\n",
            "Data columns (total 6 columns):\n",
            " #   Column               Non-Null Count  Dtype \n",
            "---  ------               --------------  ----- \n",
            " 0   raw                  4984 non-null   object\n",
            " 1   clean                4984 non-null   object\n",
            " 2   clean_pp             4984 non-null   object\n",
            " 3   clean_pp_lemma       4984 non-null   object\n",
            " 4   clean_pp_lemma_stop  4984 non-null   object\n",
            " 5   toxic                4984 non-null   int64 \n",
            "dtypes: int64(1), object(5)\n",
            "memory usage: 233.8+ KB\n"
          ]
        }
      ],
      "source": [
        "df.info()"
      ]
    },
    {
      "cell_type": "markdown",
      "metadata": {},
      "source": [
        "## Handle missing values\n",
        "\n",
        "There shouldn't be any after preprocessing, but anyway ..."
      ]
    },
    {
      "cell_type": "code",
      "execution_count": 5,
      "metadata": {},
      "outputs": [
        {
          "name": "stdout",
          "output_type": "stream",
          "text": [
            "Checking for NaN's ...\n",
            "No NaN's found.\n"
          ]
        }
      ],
      "source": [
        "print('Checking for NaN\\'s ...')\n",
        "\n",
        "if df.isna().sum().sum() != 0:\n",
        "    print('NaN\\'s found.')\n",
        "    rows_before = df.shape[0]\n",
        "    print('Rows before dropping:', rows_before)\n",
        "    print('Dropping rows ...')\n",
        "    df.dropna(inplace=True)\n",
        "    df.reset_index(drop=True, inplace=True)\n",
        "    rows_after = df.shape[0]\n",
        "    print('Rows after dropping:', rows_after)\n",
        "    print('Rows dropped:', rows_before - rows_after)\n",
        "\n",
        "else:\n",
        "    print('No NaN\\'s found.')"
      ]
    },
    {
      "cell_type": "markdown",
      "metadata": {},
      "source": [
        " ## Check for imbalance in data"
      ]
    },
    {
      "cell_type": "code",
      "execution_count": 6,
      "metadata": {},
      "outputs": [
        {
          "name": "stdout",
          "output_type": "stream",
          "text": [
            "Nontoxic (0): 4555 (91.4 %)\n",
            "Toxic (1): 429 (8.6 %)\n"
          ]
        }
      ],
      "source": [
        "value_counts = df.toxic.value_counts()\n",
        "nontoxic_count = value_counts[0]\n",
        "toxic_count = value_counts[1]\n",
        "nontoxic_perc =\\\n",
        "    round((nontoxic_count / (nontoxic_count + toxic_count)) * 100, 1)\n",
        "toxic_perc =\\\n",
        "    round((toxic_count / (nontoxic_count + toxic_count)) * 100, 1)\n",
        "\n",
        "print(f'Nontoxic (0): {nontoxic_count} ({nontoxic_perc} %)')\n",
        "print(f'Toxic (1): {toxic_count} ({toxic_perc} %)')"
      ]
    },
    {
      "cell_type": "markdown",
      "metadata": {},
      "source": [
        "## Prepare data for LSTM\n",
        "\n",
        "TODO: Optimize LSTM."
      ]
    },
    {
      "cell_type": "code",
      "execution_count": 8,
      "metadata": {},
      "outputs": [],
      "source": [
        "X = df['clean_pp_lemma_stop']\n",
        "y = df['toxic']\n",
        "\n",
        "# Split the data into train and test sets\n",
        "X_train, X_test, y_train, y_test =\\\n",
        "    train_test_split(X, y, test_size=0.2, random_state=42)\n",
        "\n",
        "# Tokenize and convert text to sequences\n",
        "max_words = 10000  # Set the maximum number of words to consider\n",
        "max_len = 100  # Set the maximum length of each sequence\n",
        "tokenizer = Tokenizer(num_words=max_words)\n",
        "tokenizer.fit_on_texts(X_train)\n",
        "X_train_seq = tokenizer.texts_to_sequences(X_train)\n",
        "X_test_seq = tokenizer.texts_to_sequences(X_test)\n",
        "\n",
        "# Pad sequences to a fixed length\n",
        "X_train_padded = pad_sequences(X_train_seq, maxlen=max_len)\n",
        "X_test_padded = pad_sequences(X_test_seq, maxlen=max_len)\n",
        "\n",
        "# use SMOTE to balance train data\n",
        "sm = SMOTE(random_state=42)\n",
        "X_train_padded_sm, y_train_sm = sm.fit_resample(X_train_padded, y_train)"
      ]
    },
    {
      "cell_type": "markdown",
      "metadata": {},
      "source": [
        "## Build LSTM model"
      ]
    },
    {
      "cell_type": "code",
      "execution_count": 9,
      "metadata": {},
      "outputs": [],
      "source": [
        "model = Sequential()\n",
        "model.add(Embedding(input_dim=max_words, output_dim=128, input_length=max_len))\n",
        "model.add(LSTM(units=64))\n",
        "model.add(Dense(units=1, activation='sigmoid'))\n",
        "\n",
        "model.compile(loss='binary_crossentropy', optimizer='adam', metrics=['accuracy'])"
      ]
    },
    {
      "cell_type": "markdown",
      "metadata": {},
      "source": [
        "## Train model"
      ]
    },
    {
      "cell_type": "code",
      "execution_count": 11,
      "metadata": {},
      "outputs": [
        {
          "name": "stdout",
          "output_type": "stream",
          "text": [
            "Epoch 1/5\n",
            "228/228 [==============================] - 31s 136ms/step - loss: 0.6618 - accuracy: 0.6292 - val_loss: 0.6704 - val_accuracy: 0.6269\n",
            "Epoch 2/5\n",
            "228/228 [==============================] - 32s 141ms/step - loss: 0.4152 - accuracy: 0.8105 - val_loss: 0.8489 - val_accuracy: 0.5928\n",
            "Epoch 3/5\n",
            "228/228 [==============================] - 35s 154ms/step - loss: 0.2180 - accuracy: 0.9199 - val_loss: 1.1102 - val_accuracy: 0.5848\n",
            "Epoch 4/5\n",
            "228/228 [==============================] - 33s 144ms/step - loss: 0.1067 - accuracy: 0.9653 - val_loss: 1.1764 - val_accuracy: 0.6239\n",
            "Epoch 5/5\n",
            "228/228 [==============================] - 32s 142ms/step - loss: 0.0493 - accuracy: 0.9857 - val_loss: 2.1731 - val_accuracy: 0.5155\n"
          ]
        }
      ],
      "source": [
        "train_time_start = time.time() # timer\n",
        "\n",
        "model.fit(X_train_padded_sm, y_train_sm,\n",
        "          epochs=5,\n",
        "          batch_size=32,\n",
        "          validation_data=(X_test_padded, y_test))\n",
        "\n",
        "train_time = time.time() - train_time_start # timer\n",
        "train_time_str = f'{int(train_time // 60)}m {round(train_time % 60)}s'"
      ]
    },
    {
      "cell_type": "markdown",
      "metadata": {},
      "source": [
        "## Save model + tokenizer for later use in dashboard"
      ]
    },
    {
      "cell_type": "code",
      "execution_count": 12,
      "metadata": {},
      "outputs": [],
      "source": [
        "# Save model architecture as JSON\n",
        "model_json = model.to_json()\n",
        "with open('data/lstm_architect.json', 'w') as file:\n",
        "    file.write(model_json)\n",
        "\n",
        "# Save model weights\n",
        "model.save_weights('data/lstm_weights.h5')\n",
        "\n",
        "# Pickle tokenizer\n",
        "with open('data/lstm_tokenizer.pkl', 'wb') as file:\n",
        "    pickle.dump(tokenizer, file)"
      ]
    },
    {
      "cell_type": "markdown",
      "metadata": {},
      "source": [
        "## Predict test data"
      ]
    },
    {
      "cell_type": "code",
      "execution_count": 13,
      "metadata": {},
      "outputs": [
        {
          "name": "stdout",
          "output_type": "stream",
          "text": [
            "32/32 [==============================] - 2s 30ms/step\n"
          ]
        }
      ],
      "source": [
        "# Predict test data\n",
        "y_pred = (model.predict(X_test_padded) > 0.5).astype(int)"
      ]
    },
    {
      "cell_type": "markdown",
      "metadata": {},
      "source": [
        "## Evaluate model"
      ]
    },
    {
      "cell_type": "code",
      "execution_count": 14,
      "metadata": {},
      "outputs": [],
      "source": [
        "eval_model(model.__class__.__name__,\n",
        "           'epochs=5, batch_size=32, validation_data=(X_test_padded, y_test)',\n",
        "           '5,000 rows from \"clean_pp_lemma_stop',\n",
        "           train_time_str,\n",
        "           y_test, y_pred)"
      ]
    },
    {
      "cell_type": "markdown",
      "metadata": {},
      "source": [
        "## Show test results + total exec time"
      ]
    },
    {
      "cell_type": "code",
      "execution_count": 15,
      "metadata": {},
      "outputs": [
        {
          "data": {
            "text/html": [
              "<div>\n",
              "<style scoped>\n",
              "    .dataframe tbody tr th:only-of-type {\n",
              "        vertical-align: middle;\n",
              "    }\n",
              "\n",
              "    .dataframe tbody tr th {\n",
              "        vertical-align: top;\n",
              "    }\n",
              "\n",
              "    .dataframe thead th {\n",
              "        text-align: right;\n",
              "    }\n",
              "</style>\n",
              "<table border=\"1\" class=\"dataframe\">\n",
              "  <thead>\n",
              "    <tr style=\"text-align: right;\">\n",
              "      <th></th>\n",
              "      <th>model_name</th>\n",
              "      <th>model_params</th>\n",
              "      <th>data_desc</th>\n",
              "      <th>f1</th>\n",
              "      <th>acc</th>\n",
              "      <th>recall</th>\n",
              "      <th>prec</th>\n",
              "      <th>cf_matrix</th>\n",
              "      <th>exec_time</th>\n",
              "      <th>notes</th>\n",
              "    </tr>\n",
              "  </thead>\n",
              "  <tbody>\n",
              "    <tr>\n",
              "      <th>0</th>\n",
              "      <td>Sequential</td>\n",
              "      <td>epochs=5, batch_size=32, validation_data=(X_test_padded, y_test)</td>\n",
              "      <td>5,000 rows from \"clean_pp_lemma_stop</td>\n",
              "      <td>0.22222</td>\n",
              "      <td>0.51555</td>\n",
              "      <td>0.78409</td>\n",
              "      <td>0.12946</td>\n",
              "      <td>[[445, 464], [19, 69]]</td>\n",
              "      <td>2m 43s</td>\n",
              "      <td></td>\n",
              "    </tr>\n",
              "  </tbody>\n",
              "</table>\n",
              "</div>"
            ],
            "text/plain": [
              "   model_name  \\\n",
              "0  Sequential   \n",
              "\n",
              "                                                       model_params  \\\n",
              "0  epochs=5, batch_size=32, validation_data=(X_test_padded, y_test)   \n",
              "\n",
              "                              data_desc       f1      acc   recall     prec  \\\n",
              "0  5,000 rows from \"clean_pp_lemma_stop  0.22222  0.51555  0.78409  0.12946   \n",
              "\n",
              "                cf_matrix exec_time notes  \n",
              "0  [[445, 464], [19, 69]]    2m 43s        "
            ]
          },
          "execution_count": 15,
          "metadata": {},
          "output_type": "execute_result"
        }
      ],
      "source": [
        "test_results"
      ]
    },
    {
      "cell_type": "code",
      "execution_count": 16,
      "metadata": {},
      "outputs": [
        {
          "name": "stdout",
          "output_type": "stream",
          "text": [
            "Full run time: 8m 1s\n"
          ]
        }
      ],
      "source": [
        "full_run_time = time.time() - full_run_time_start\n",
        "print(f'Full run time: {int(full_run_time // 60)}m {round(full_run_time % 60)}s')"
      ]
    }
  ],
  "metadata": {
    "colab": {
      "provenance": []
    },
    "kernelspec": {
      "display_name": "Python 3",
      "name": "python3"
    },
    "language_info": {
      "codemirror_mode": {
        "name": "ipython",
        "version": 3
      },
      "file_extension": ".py",
      "mimetype": "text/x-python",
      "name": "python",
      "nbconvert_exporter": "python",
      "pygments_lexer": "ipython3",
      "version": "3.10.13"
    }
  },
  "nbformat": 4,
  "nbformat_minor": 0
}
