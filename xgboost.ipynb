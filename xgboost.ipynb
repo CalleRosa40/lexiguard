{
  "cells": [
    {
      "cell_type": "markdown",
      "metadata": {
        "id": "8ChnD36qHhuy"
      },
      "source": [
        "# LexiGuard: XGBoost experiments\n",
        "\n",
        "[![Colab](https://colab.research.google.com/assets/colab-badge.svg)](https://colab.research.google.com/github/CalleRosa40/lexiguard/blob/main/xgboost.ipynb)\n",
        "\n",
        "Please run `data_preprocessing.ipynb` to create data file(s)."
      ]
    },
    {
      "cell_type": "markdown",
      "metadata": {
        "id": "sLTUtsD6HupB"
      },
      "source": [
        "## Setup"
      ]
    },
    {
      "cell_type": "code",
      "execution_count": 12,
      "metadata": {
        "colab": {
          "base_uri": "https://localhost:8080/"
        },
        "id": "nisbn3mTG0fj",
        "outputId": "c3a65a47-0bea-4de2-c594-1b5ca57dec48"
      },
      "outputs": [],
      "source": [
        "# Python standard lib\n",
        "import time; full_run_time_start = time.time() # start timing exec right away\n",
        "\n",
        "# other \"usual suspects\"\n",
        "import numpy as np\n",
        "import pandas as pd\n",
        "\n",
        "# scikit-learn\n",
        "from sklearn.model_selection import train_test_split\n",
        "from sklearn.feature_extraction.text import CountVectorizer, TfidfVectorizer\n",
        "from sklearn.ensemble import RandomForestClassifier\n",
        "\n",
        "# imbalanced-learn\n",
        "from imblearn.over_sampling import SMOTE\n",
        "\n",
        "# XGBoost\n",
        "from xgboost import XGBClassifier\n",
        "\n",
        "# display all df columns (default is 20)\n",
        "pd.options.display.max_columns = None\n",
        "\n",
        "# show all data in columns\n",
        "pd.options.display.max_colwidth = None\n",
        "\n",
        "# load utility functions\n",
        "%run functions.ipynb"
      ]
    },
    {
      "cell_type": "markdown",
      "metadata": {
        "id": "-MP847vfIJMN"
      },
      "source": [
        "## Load data"
      ]
    },
    {
      "cell_type": "code",
      "execution_count": 13,
      "metadata": {
        "id": "r6YNY0NIIL4d"
      },
      "outputs": [
        {
          "data": {
            "text/plain": [
              "(49797, 6)"
            ]
          },
          "execution_count": 13,
          "metadata": {},
          "output_type": "execute_result"
        }
      ],
      "source": [
        "# Watch out which file is loaded here! Full data or just sample?\n",
        "df = pd.read_csv('data/lexiguard_data_50000.csv')\n",
        "df.shape"
      ]
    },
    {
      "cell_type": "code",
      "execution_count": 14,
      "metadata": {},
      "outputs": [
        {
          "data": {
            "text/html": [
              "<div>\n",
              "<style scoped>\n",
              "    .dataframe tbody tr th:only-of-type {\n",
              "        vertical-align: middle;\n",
              "    }\n",
              "\n",
              "    .dataframe tbody tr th {\n",
              "        vertical-align: top;\n",
              "    }\n",
              "\n",
              "    .dataframe thead th {\n",
              "        text-align: right;\n",
              "    }\n",
              "</style>\n",
              "<table border=\"1\" class=\"dataframe\">\n",
              "  <thead>\n",
              "    <tr style=\"text-align: right;\">\n",
              "      <th></th>\n",
              "      <th>raw</th>\n",
              "      <th>clean</th>\n",
              "      <th>clean_pp</th>\n",
              "      <th>clean_pp_lemma</th>\n",
              "      <th>clean_pp_lemma_stop</th>\n",
              "      <th>toxic</th>\n",
              "    </tr>\n",
              "  </thead>\n",
              "  <tbody>\n",
              "    <tr>\n",
              "      <th>0</th>\n",
              "      <td>Naturally you can feel it in your urine. \\nThat's one of the common expressions in the Germanic languages and the hallmark of those who, after the fact, say they knew that all along.   ;)</td>\n",
              "      <td>Naturally you can feel it in your urine. That's one of the common expressions in the Germanic languages and the hallmark of those who, after the fact, say they knew that all along. ;)</td>\n",
              "      <td>naturally you can feel it in your urine that 's one of the common expressions in the germanic languages and the hallmark of those who after the fact say they knew that all along</td>\n",
              "      <td>naturally you can feel it in your urine that be one of the common expression in the germanic language and the hallmark of those who after the fact say they know that all along</td>\n",
              "      <td>naturally feel urine common expression germanic language hallmark fact know</td>\n",
              "      <td>0</td>\n",
              "    </tr>\n",
              "    <tr>\n",
              "      <th>1</th>\n",
              "      <td>Yum!  What's not to love: water+maple syrup - together.</td>\n",
              "      <td>Yum! What's not to love: water+maple syrup - together.</td>\n",
              "      <td>yum what 's not to love water+maple syrup together</td>\n",
              "      <td>yum what be not to love water+maple syrup together</td>\n",
              "      <td>yum love water+maple syrup</td>\n",
              "      <td>0</td>\n",
              "    </tr>\n",
              "    <tr>\n",
              "      <th>2</th>\n",
              "      <td>Catou I will wager that mutual fund sales will be just as strong this RRSP season as last year.  The fact is that your typical mutual fund owner isn't going to suddenly discover DIY investing in individual stocks and salesperson at the bank isn't going to suddenly abandon the sales pitch for lower cost ETFs or GICs.</td>\n",
              "      <td>Catou I will wager that mutual fund sales will be just as strong this RRSP season as last year. The fact is that your typical mutual fund owner isn't going to suddenly discover DIY investing in individual stocks and salesperson at the bank isn't going to suddenly abandon the sales pitch for lower cost ETFs or GICs.</td>\n",
              "      <td>catou i will wager that mutual fund sales will be just as strong this rrsp season as last year the fact is that your typical mutual fund owner is n't going to suddenly discover diy investing in individual stocks and salesperson at the bank is n't going to suddenly abandon the sales pitch for lower cost etfs or gics</td>\n",
              "      <td>catou i will wager that mutual fund sale will be just as strong this rrsp season as last year the fact be that your typical mutual fund owner be not go to suddenly discover diy invest in individual stock and salesperson at the bank be not go to suddenly abandon the sale pitch for low cost etf or gic</td>\n",
              "      <td>catou wager mutual fund sale strong rrsp season year fact typical mutual fund owner go suddenly discover diy invest individual stock salesperson bank go suddenly abandon sale pitch low cost etf gic</td>\n",
              "      <td>0</td>\n",
              "    </tr>\n",
              "    <tr>\n",
              "      <th>3</th>\n",
              "      <td>\"The shortage of priests is not a shortage of vocations but a shortness of sight.\"\\n\\nExactly! Very well put!</td>\n",
              "      <td>\"The shortage of priests is not a shortage of vocations but a shortness of sight.\" Exactly! Very well put!</td>\n",
              "      <td>the shortage of priests is not a shortage of vocations but a shortness of sight exactly very well put</td>\n",
              "      <td>the shortage of priest be not a shortage of vocation but a shortness of sight exactly very well put</td>\n",
              "      <td>shortage priest shortage vocation shortness sight exactly</td>\n",
              "      <td>0</td>\n",
              "    </tr>\n",
              "    <tr>\n",
              "      <th>4</th>\n",
              "      <td>I dont disagree with that. It takes money to deal drugs. Street level drug sales people, they nit really dealers, are from many parts of the federal population.</td>\n",
              "      <td>I dont disagree with that. It takes money to deal drugs. Street level drug sales people, they nit really dealers, are from many parts of the federal population.</td>\n",
              "      <td>i do nt disagree with that it takes money to deal drugs street level drug sales people they nit really dealers are from many parts of the federal population</td>\n",
              "      <td>i do not disagree with that it take money to deal drug street level drug sale people they nit really dealer be from many part of the federal population</td>\n",
              "      <td>not disagree take money deal drug street level drug sale people nit dealer part federal population</td>\n",
              "      <td>0</td>\n",
              "    </tr>\n",
              "  </tbody>\n",
              "</table>\n",
              "</div>"
            ],
            "text/plain": [
              "                                                                                                                                                                                                                                                                                                                             raw  \\\n",
              "0                                                                                                                                    Naturally you can feel it in your urine. \\nThat's one of the common expressions in the Germanic languages and the hallmark of those who, after the fact, say they knew that all along.   ;)   \n",
              "1                                                                                                                                                                                                                                                                        Yum!  What's not to love: water+maple syrup - together.   \n",
              "2  Catou I will wager that mutual fund sales will be just as strong this RRSP season as last year.  The fact is that your typical mutual fund owner isn't going to suddenly discover DIY investing in individual stocks and salesperson at the bank isn't going to suddenly abandon the sales pitch for lower cost ETFs or GICs.   \n",
              "3                                                                                                                                                                                                                  \"The shortage of priests is not a shortage of vocations but a shortness of sight.\"\\n\\nExactly! Very well put!   \n",
              "4                                                                                                                                                               I dont disagree with that. It takes money to deal drugs. Street level drug sales people, they nit really dealers, are from many parts of the federal population.   \n",
              "\n",
              "                                                                                                                                                                                                                                                                                                                          clean  \\\n",
              "0                                                                                                                                       Naturally you can feel it in your urine. That's one of the common expressions in the Germanic languages and the hallmark of those who, after the fact, say they knew that all along. ;)   \n",
              "1                                                                                                                                                                                                                                                                        Yum! What's not to love: water+maple syrup - together.   \n",
              "2  Catou I will wager that mutual fund sales will be just as strong this RRSP season as last year. The fact is that your typical mutual fund owner isn't going to suddenly discover DIY investing in individual stocks and salesperson at the bank isn't going to suddenly abandon the sales pitch for lower cost ETFs or GICs.   \n",
              "3                                                                                                                                                                                                                    \"The shortage of priests is not a shortage of vocations but a shortness of sight.\" Exactly! Very well put!   \n",
              "4                                                                                                                                                              I dont disagree with that. It takes money to deal drugs. Street level drug sales people, they nit really dealers, are from many parts of the federal population.   \n",
              "\n",
              "                                                                                                                                                                                                                                                                                                                       clean_pp  \\\n",
              "0                                                                                                                                             naturally you can feel it in your urine that 's one of the common expressions in the germanic languages and the hallmark of those who after the fact say they knew that all along   \n",
              "1                                                                                                                                                                                                                                                                            yum what 's not to love water+maple syrup together   \n",
              "2  catou i will wager that mutual fund sales will be just as strong this rrsp season as last year the fact is that your typical mutual fund owner is n't going to suddenly discover diy investing in individual stocks and salesperson at the bank is n't going to suddenly abandon the sales pitch for lower cost etfs or gics   \n",
              "3                                                                                                                                                                                                                         the shortage of priests is not a shortage of vocations but a shortness of sight exactly very well put   \n",
              "4                                                                                                                                                                  i do nt disagree with that it takes money to deal drugs street level drug sales people they nit really dealers are from many parts of the federal population   \n",
              "\n",
              "                                                                                                                                                                                                                                                                                                 clean_pp_lemma  \\\n",
              "0                                                                                                                               naturally you can feel it in your urine that be one of the common expression in the germanic language and the hallmark of those who after the fact say they know that all along   \n",
              "1                                                                                                                                                                                                                                                            yum what be not to love water+maple syrup together   \n",
              "2  catou i will wager that mutual fund sale will be just as strong this rrsp season as last year the fact be that your typical mutual fund owner be not go to suddenly discover diy invest in individual stock and salesperson at the bank be not go to suddenly abandon the sale pitch for low cost etf or gic   \n",
              "3                                                                                                                                                                                                           the shortage of priest be not a shortage of vocation but a shortness of sight exactly very well put   \n",
              "4                                                                                                                                                       i do not disagree with that it take money to deal drug street level drug sale people they nit really dealer be from many part of the federal population   \n",
              "\n",
              "                                                                                                                                                                                     clean_pp_lemma_stop  \\\n",
              "0                                                                                                                            naturally feel urine common expression germanic language hallmark fact know   \n",
              "1                                                                                                                                                                             yum love water+maple syrup   \n",
              "2  catou wager mutual fund sale strong rrsp season year fact typical mutual fund owner go suddenly discover diy invest individual stock salesperson bank go suddenly abandon sale pitch low cost etf gic   \n",
              "3                                                                                                                                              shortage priest shortage vocation shortness sight exactly   \n",
              "4                                                                                                     not disagree take money deal drug street level drug sale people nit dealer part federal population   \n",
              "\n",
              "   toxic  \n",
              "0      0  \n",
              "1      0  \n",
              "2      0  \n",
              "3      0  \n",
              "4      0  "
            ]
          },
          "execution_count": 14,
          "metadata": {},
          "output_type": "execute_result"
        }
      ],
      "source": [
        "df.head()"
      ]
    },
    {
      "cell_type": "code",
      "execution_count": 15,
      "metadata": {},
      "outputs": [
        {
          "name": "stdout",
          "output_type": "stream",
          "text": [
            "<class 'pandas.core.frame.DataFrame'>\n",
            "RangeIndex: 49797 entries, 0 to 49796\n",
            "Data columns (total 6 columns):\n",
            " #   Column               Non-Null Count  Dtype \n",
            "---  ------               --------------  ----- \n",
            " 0   raw                  49797 non-null  object\n",
            " 1   clean                49797 non-null  object\n",
            " 2   clean_pp             49797 non-null  object\n",
            " 3   clean_pp_lemma       49797 non-null  object\n",
            " 4   clean_pp_lemma_stop  49797 non-null  object\n",
            " 5   toxic                49797 non-null  int64 \n",
            "dtypes: int64(1), object(5)\n",
            "memory usage: 2.3+ MB\n"
          ]
        }
      ],
      "source": [
        "df.info()"
      ]
    },
    {
      "cell_type": "markdown",
      "metadata": {},
      "source": [
        "## Handle missing values\n",
        "\n",
        "There shouldn't be any after preprocessing, but anyway ..."
      ]
    },
    {
      "cell_type": "code",
      "execution_count": 16,
      "metadata": {},
      "outputs": [
        {
          "name": "stdout",
          "output_type": "stream",
          "text": [
            "Checking for NaN's ...\n",
            "No NaN's found.\n"
          ]
        }
      ],
      "source": [
        "print('Checking for NaN\\'s ...')\n",
        "\n",
        "if df.isna().sum().sum() != 0:\n",
        "    print('NaN\\'s found.')\n",
        "    rows_before = df.shape[0]\n",
        "    print('Rows before dropping:', rows_before)\n",
        "    print('Dropping rows ...')\n",
        "    df.dropna(inplace=True)\n",
        "    df.reset_index(drop=True, inplace=True)\n",
        "    rows_after = df.shape[0]\n",
        "    print('Rows after dropping:', rows_after)\n",
        "    print('Rows dropped:', rows_before - rows_after)\n",
        "\n",
        "else:\n",
        "    print('No NaN\\'s found.')"
      ]
    },
    {
      "cell_type": "markdown",
      "metadata": {},
      "source": [
        " ## Check for imbalance in data"
      ]
    },
    {
      "cell_type": "code",
      "execution_count": 17,
      "metadata": {},
      "outputs": [
        {
          "name": "stdout",
          "output_type": "stream",
          "text": [
            "Nontoxic (0): 45760 (91.9 %)\n",
            "Toxic (1): 4037 (8.1 %)\n"
          ]
        }
      ],
      "source": [
        "value_counts = df.toxic.value_counts()\n",
        "nontoxic_count = value_counts[0]\n",
        "toxic_count = value_counts[1]\n",
        "nontoxic_perc =\\\n",
        "    round((nontoxic_count / (nontoxic_count + toxic_count)) * 100, 1)\n",
        "toxic_perc =\\\n",
        "    round((toxic_count / (nontoxic_count + toxic_count)) * 100, 1)\n",
        "\n",
        "print(f'Nontoxic (0): {nontoxic_count} ({nontoxic_perc} %)')\n",
        "print(f'Toxic (1): {toxic_count} ({toxic_perc} %)')"
      ]
    },
    {
      "cell_type": "markdown",
      "metadata": {},
      "source": [
        "## Function: Create bag of words"
      ]
    },
    {
      "cell_type": "code",
      "execution_count": 18,
      "metadata": {},
      "outputs": [],
      "source": [
        "def bow(s):\n",
        "    vect = CountVectorizer()\n",
        "    return vect.fit_transform(s)"
      ]
    },
    {
      "cell_type": "markdown",
      "metadata": {},
      "source": [
        "## Function: TF-IDF"
      ]
    },
    {
      "cell_type": "code",
      "execution_count": 19,
      "metadata": {},
      "outputs": [],
      "source": [
        "def tf_idf(s):\n",
        "    vect = TfidfVectorizer()\n",
        "    return vect.fit_transform(s)"
      ]
    },
    {
      "cell_type": "markdown",
      "metadata": {},
      "source": [
        "## Run XGB on different data cols\n",
        "\n",
        "TODO: Try out more and more sophisticated representations/embeddings."
      ]
    },
    {
      "cell_type": "code",
      "execution_count": 20,
      "metadata": {},
      "outputs": [
        {
          "name": "stdout",
          "output_type": "stream",
          "text": [
            "Running: BOW on col \"raw\"\n",
            "Running: BOW on col \"clean\"\n",
            "Running: BOW on col \"clean_pp\"\n",
            "Running: BOW on col \"clean_pp_lemma\"\n",
            "Running: BOW on col \"clean_pp_lemma_stop\"\n",
            "Running: TF-IDF on col \"clean_pp_lemma_stop\"\n"
          ]
        }
      ],
      "source": [
        "# parameters for model\n",
        "params = {'random_state': 42, 'n_jobs': -1}\n",
        "\n",
        "# load model with parameters\n",
        "xgb = XGBClassifier(**params)\n",
        "\n",
        "y = df.toxic\n",
        "\n",
        "def run_experiment(X, data_desc):\n",
        "    print('Running:', data_desc)\n",
        "    \n",
        "    # Split data using 80% for train, 20% for test. Make sure test data has\n",
        "    # same toxic/nontoxic ratio as train data by using stratify arg.\n",
        "    X_train, X_test, y_train, y_test =\\\n",
        "        train_test_split(X, y, test_size=0.2, stratify=y, random_state=42)\n",
        "\n",
        "    # use SMOTE to balance train data\n",
        "    sm = SMOTE(random_state=42)\n",
        "    X_train_sm, y_train_sm = sm.fit_resample(X_train, y_train)\n",
        "\n",
        "    # train model and time execution\n",
        "    train_time_start = time.time()\n",
        "    xgb.fit(X_train_sm, y_train_sm)\n",
        "    train_time = time.time() - train_time_start\n",
        "    train_time_str = f'{int(train_time // 60)}m {round(train_time % 60)}s'\n",
        "\n",
        "    # predict test data\n",
        "    y_pred = xgb.predict(X_test)\n",
        "\n",
        "    eval_model(xgb.__class__.__name__,\n",
        "            params,\n",
        "            data_desc,\n",
        "            train_time_str,\n",
        "            y_test, y_pred)\n",
        "\n",
        "run_experiment(bow(df.raw), 'BOW on col \"raw\"')\n",
        "run_experiment(bow(df.clean), 'BOW on col \"clean\"')\n",
        "run_experiment(bow(df.clean_pp), 'BOW on col \"clean_pp\"')\n",
        "run_experiment(bow(df.clean_pp_lemma), 'BOW on col \"clean_pp_lemma\"')\n",
        "run_experiment(bow(df.clean_pp_lemma_stop), 'BOW on col \"clean_pp_lemma_stop\"')\n",
        "run_experiment(tf_idf(df.clean_pp_lemma_stop),\n",
        "               'TF-IDF on col \"clean_pp_lemma_stop\"')"
      ]
    },
    {
      "cell_type": "markdown",
      "metadata": {},
      "source": [
        "## Show test results + total exec time"
      ]
    },
    {
      "cell_type": "code",
      "execution_count": 21,
      "metadata": {},
      "outputs": [
        {
          "data": {
            "text/html": [
              "<div>\n",
              "<style scoped>\n",
              "    .dataframe tbody tr th:only-of-type {\n",
              "        vertical-align: middle;\n",
              "    }\n",
              "\n",
              "    .dataframe tbody tr th {\n",
              "        vertical-align: top;\n",
              "    }\n",
              "\n",
              "    .dataframe thead th {\n",
              "        text-align: right;\n",
              "    }\n",
              "</style>\n",
              "<table border=\"1\" class=\"dataframe\">\n",
              "  <thead>\n",
              "    <tr style=\"text-align: right;\">\n",
              "      <th></th>\n",
              "      <th>model_name</th>\n",
              "      <th>model_params</th>\n",
              "      <th>data_desc</th>\n",
              "      <th>f1</th>\n",
              "      <th>acc</th>\n",
              "      <th>recall</th>\n",
              "      <th>prec</th>\n",
              "      <th>cf_matrix</th>\n",
              "      <th>exec_time</th>\n",
              "      <th>notes</th>\n",
              "    </tr>\n",
              "  </thead>\n",
              "  <tbody>\n",
              "    <tr>\n",
              "      <th>0</th>\n",
              "      <td>XGBClassifier</td>\n",
              "      <td>{}</td>\n",
              "      <td>BOW on col \"raw\"</td>\n",
              "      <td>0.48306</td>\n",
              "      <td>0.94026</td>\n",
              "      <td>0.34449</td>\n",
              "      <td>0.80814</td>\n",
              "      <td>[[9087, 66], [529, 278]]</td>\n",
              "      <td>0m 20s</td>\n",
              "      <td></td>\n",
              "    </tr>\n",
              "    <tr>\n",
              "      <th>1</th>\n",
              "      <td>XGBClassifier</td>\n",
              "      <td>{}</td>\n",
              "      <td>BOW on col \"clean\"</td>\n",
              "      <td>0.48427</td>\n",
              "      <td>0.94076</td>\n",
              "      <td>0.34325</td>\n",
              "      <td>0.82196</td>\n",
              "      <td>[[9093, 60], [530, 277]]</td>\n",
              "      <td>0m 21s</td>\n",
              "      <td></td>\n",
              "    </tr>\n",
              "    <tr>\n",
              "      <th>2</th>\n",
              "      <td>XGBClassifier</td>\n",
              "      <td>{}</td>\n",
              "      <td>BOW on col \"clean_pp\"</td>\n",
              "      <td>0.48747</td>\n",
              "      <td>0.94046</td>\n",
              "      <td>0.34944</td>\n",
              "      <td>0.80571</td>\n",
              "      <td>[[9085, 68], [525, 282]]</td>\n",
              "      <td>0m 21s</td>\n",
              "      <td></td>\n",
              "    </tr>\n",
              "    <tr>\n",
              "      <th>3</th>\n",
              "      <td>XGBClassifier</td>\n",
              "      <td>{}</td>\n",
              "      <td>BOW on col \"clean_pp_lemma\"</td>\n",
              "      <td>0.47528</td>\n",
              "      <td>0.93926</td>\n",
              "      <td>0.33953</td>\n",
              "      <td>0.79191</td>\n",
              "      <td>[[9081, 72], [533, 274]]</td>\n",
              "      <td>0m 18s</td>\n",
              "      <td></td>\n",
              "    </tr>\n",
              "    <tr>\n",
              "      <th>4</th>\n",
              "      <td>XGBClassifier</td>\n",
              "      <td>{}</td>\n",
              "      <td>BOW on col \"clean_pp_lemma_stop\"</td>\n",
              "      <td>0.48833</td>\n",
              "      <td>0.93835</td>\n",
              "      <td>0.36307</td>\n",
              "      <td>0.74555</td>\n",
              "      <td>[[9053, 100], [514, 293]]</td>\n",
              "      <td>0m 12s</td>\n",
              "      <td></td>\n",
              "    </tr>\n",
              "    <tr>\n",
              "      <th>5</th>\n",
              "      <td>XGBClassifier</td>\n",
              "      <td>{}</td>\n",
              "      <td>TF-IDF on col \"clean_pp_lemma_stop\"</td>\n",
              "      <td>0.55875</td>\n",
              "      <td>0.92912</td>\n",
              "      <td>0.55390</td>\n",
              "      <td>0.56368</td>\n",
              "      <td>[[8807, 346], [360, 447]]</td>\n",
              "      <td>0m 60s</td>\n",
              "      <td></td>\n",
              "    </tr>\n",
              "  </tbody>\n",
              "</table>\n",
              "</div>"
            ],
            "text/plain": [
              "      model_name model_params                            data_desc       f1  \\\n",
              "0  XGBClassifier           {}                     BOW on col \"raw\"  0.48306   \n",
              "1  XGBClassifier           {}                   BOW on col \"clean\"  0.48427   \n",
              "2  XGBClassifier           {}                BOW on col \"clean_pp\"  0.48747   \n",
              "3  XGBClassifier           {}          BOW on col \"clean_pp_lemma\"  0.47528   \n",
              "4  XGBClassifier           {}     BOW on col \"clean_pp_lemma_stop\"  0.48833   \n",
              "5  XGBClassifier           {}  TF-IDF on col \"clean_pp_lemma_stop\"  0.55875   \n",
              "\n",
              "       acc   recall     prec                  cf_matrix exec_time notes  \n",
              "0  0.94026  0.34449  0.80814   [[9087, 66], [529, 278]]    0m 20s        \n",
              "1  0.94076  0.34325  0.82196   [[9093, 60], [530, 277]]    0m 21s        \n",
              "2  0.94046  0.34944  0.80571   [[9085, 68], [525, 282]]    0m 21s        \n",
              "3  0.93926  0.33953  0.79191   [[9081, 72], [533, 274]]    0m 18s        \n",
              "4  0.93835  0.36307  0.74555  [[9053, 100], [514, 293]]    0m 12s        \n",
              "5  0.92912  0.55390  0.56368  [[8807, 346], [360, 447]]    0m 60s        "
            ]
          },
          "execution_count": 21,
          "metadata": {},
          "output_type": "execute_result"
        }
      ],
      "source": [
        "test_results"
      ]
    },
    {
      "cell_type": "code",
      "execution_count": 22,
      "metadata": {},
      "outputs": [
        {
          "name": "stdout",
          "output_type": "stream",
          "text": [
            "Full run time: 3m 1s\n"
          ]
        }
      ],
      "source": [
        "full_run_time = time.time() - full_run_time_start\n",
        "print(f'Full run time: {int(full_run_time // 60)}m {round(full_run_time % 60)}s')"
      ]
    }
  ],
  "metadata": {
    "colab": {
      "provenance": []
    },
    "kernelspec": {
      "display_name": "Python 3",
      "name": "python3"
    },
    "language_info": {
      "codemirror_mode": {
        "name": "ipython",
        "version": 3
      },
      "file_extension": ".py",
      "mimetype": "text/x-python",
      "name": "python",
      "nbconvert_exporter": "python",
      "pygments_lexer": "ipython3",
      "version": "3.10.13"
    }
  },
  "nbformat": 4,
  "nbformat_minor": 0
}
