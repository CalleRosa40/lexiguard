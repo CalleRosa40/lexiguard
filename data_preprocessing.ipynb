{
  "cells": [
    {
      "cell_type": "markdown",
      "metadata": {
        "id": "8ChnD36qHhuy"
      },
      "source": [
        "# Data preprocessing"
      ]
    },
    {
      "cell_type": "markdown",
      "metadata": {
        "id": "sLTUtsD6HupB"
      },
      "source": [
        "## Setup"
      ]
    },
    {
      "cell_type": "code",
      "execution_count": 1,
      "metadata": {
        "colab": {
          "base_uri": "https://localhost:8080/"
        },
        "id": "nisbn3mTG0fj",
        "outputId": "c3a65a47-0bea-4de2-c594-1b5ca57dec48"
      },
      "outputs": [],
      "source": [
        "# import the usual suspects / basics\n",
        "import pandas as pd\n",
        "import numpy as np\n",
        "import re\n",
        "import pickle\n",
        "import os\n",
        "\n",
        "# tqdm\n",
        "from tqdm import tqdm\n",
        "tqdm.pandas()\n",
        "\n",
        "# spaCy\n",
        "import spacy\n",
        "# download stuff for spaCy, must be run only once\n",
        "#!python -m spacy download en_core_web_sm\n",
        "\n",
        "# display all dataframe columns (default is 20)\n",
        "pd.options.display.max_columns = None\n",
        "\n",
        "# show all data in columns so that full comment is visible\n",
        "pd.options.display.max_colwidth = None"
      ]
    },
    {
      "cell_type": "markdown",
      "metadata": {
        "id": "-MP847vfIJMN"
      },
      "source": [
        "## Load data\n",
        "\n",
        "Source: https://www.kaggle.com/competitions/jigsaw-unintended-bias-in-toxicity-classification"
      ]
    },
    {
      "cell_type": "code",
      "execution_count": 2,
      "metadata": {
        "id": "r6YNY0NIIL4d"
      },
      "outputs": [],
      "source": [
        "# load only comments and toxicity scores from CSV\n",
        "df = pd.read_csv('data/kaggle_original/all_data.csv',\n",
        "                 usecols=['comment_text', 'toxicity'])"
      ]
    },
    {
      "cell_type": "code",
      "execution_count": 3,
      "metadata": {},
      "outputs": [
        {
          "name": "stdout",
          "output_type": "stream",
          "text": [
            "<class 'pandas.core.frame.DataFrame'>\n",
            "RangeIndex: 1999516 entries, 0 to 1999515\n",
            "Data columns (total 2 columns):\n",
            " #   Column        Dtype  \n",
            "---  ------        -----  \n",
            " 0   comment_text  object \n",
            " 1   toxicity      float64\n",
            "dtypes: float64(1), object(1)\n",
            "memory usage: 30.5+ MB\n"
          ]
        }
      ],
      "source": [
        "df.info()"
      ]
    },
    {
      "cell_type": "markdown",
      "metadata": {},
      "source": [
        "## Optional: Create data sample to speed up things for testing & experimenting\n",
        "\n",
        "TODO: A 'stratified' approach would be nice here, so that the sample has the same degree of imbalance as the full dataset."
      ]
    },
    {
      "cell_type": "code",
      "execution_count": 4,
      "metadata": {},
      "outputs": [
        {
          "name": "stdout",
          "output_type": "stream",
          "text": [
            "Using data sample: 10000 rows.\n"
          ]
        }
      ],
      "source": [
        "sample_size = None\n",
        "\n",
        "# uncomment to create sample of desired size\n",
        "sample_size = 10_000\n",
        "\n",
        "if sample_size != None:\n",
        "    df = df.sample(sample_size, random_state=42)\n",
        "    print(f'Using data sample: {df.shape[0]} rows.')\n",
        "\n",
        "else:\n",
        "    print(f'Using full data: {df.shape[0]} rows.')"
      ]
    },
    {
      "cell_type": "markdown",
      "metadata": {},
      "source": [
        "## Create binary target column"
      ]
    },
    {
      "cell_type": "code",
      "execution_count": 5,
      "metadata": {},
      "outputs": [],
      "source": [
        "df['toxic'] = (df['toxicity'] >= 0.5).astype('int')\n",
        "\n",
        "# drop toxicity scores as they are no longer needed and shouldn't\n",
        "# be passed into models\n",
        "df.drop('toxicity', axis='columns', inplace=True)"
      ]
    },
    {
      "cell_type": "markdown",
      "metadata": {},
      "source": [
        "## Check data for imbalance"
      ]
    },
    {
      "cell_type": "code",
      "execution_count": 6,
      "metadata": {},
      "outputs": [
        {
          "name": "stdout",
          "output_type": "stream",
          "text": [
            "Nontoxic comments: 9159 (91.6 %)\n",
            "Toxic comments: 841 (8.4 %)\n"
          ]
        }
      ],
      "source": [
        "# determine number of toxic and non-toxic comments\n",
        "nontoxic_count = sum(df.toxic == 0)\n",
        "toxic_count = sum(df.toxic == 1)\n",
        "\n",
        "# calculate percentages\n",
        "nontoxic_perc = round((nontoxic_count / len(df)) * 100, 1)\n",
        "toxic_perc = round((toxic_count / len(df)) * 100, 1)\n",
        "\n",
        "print(f'Nontoxic comments: {nontoxic_count} ({nontoxic_perc} %)')\n",
        "print(f'Toxic comments: {toxic_count} ({toxic_perc} %)')"
      ]
    },
    {
      "cell_type": "markdown",
      "metadata": {},
      "source": [
        "Data is strongly imbalanced → apply resampling to training data at a later stage"
      ]
    },
    {
      "cell_type": "markdown",
      "metadata": {},
      "source": [
        "## Handle missing data"
      ]
    },
    {
      "cell_type": "code",
      "execution_count": 7,
      "metadata": {},
      "outputs": [
        {
          "data": {
            "text/plain": [
              "comment_text    0\n",
              "toxic           0\n",
              "dtype: int64"
            ]
          },
          "execution_count": 7,
          "metadata": {},
          "output_type": "execute_result"
        }
      ],
      "source": [
        "# check for NaN's\n",
        "df.isna().sum()"
      ]
    },
    {
      "cell_type": "code",
      "execution_count": 8,
      "metadata": {},
      "outputs": [],
      "source": [
        "# drop rows including NaN's\n",
        "df.dropna(inplace=True)"
      ]
    },
    {
      "cell_type": "code",
      "execution_count": 9,
      "metadata": {},
      "outputs": [
        {
          "data": {
            "text/plain": [
              "comment_text    0\n",
              "toxic           0\n",
              "dtype: int64"
            ]
          },
          "execution_count": 9,
          "metadata": {},
          "output_type": "execute_result"
        }
      ],
      "source": [
        "df.isna().sum()"
      ]
    },
    {
      "cell_type": "markdown",
      "metadata": {},
      "source": [
        "## Create corpus variable"
      ]
    },
    {
      "cell_type": "code",
      "execution_count": 10,
      "metadata": {},
      "outputs": [],
      "source": [
        "corp = df['comment_text']"
      ]
    },
    {
      "cell_type": "markdown",
      "metadata": {},
      "source": [
        "## Data cleaning"
      ]
    },
    {
      "cell_type": "markdown",
      "metadata": {},
      "source": [
        "### Show data size before cleaning"
      ]
    },
    {
      "cell_type": "code",
      "execution_count": 11,
      "metadata": {},
      "outputs": [
        {
          "name": "stdout",
          "output_type": "stream",
          "text": [
            "Number of words in corpus before cleaning: 509,339\n"
          ]
        }
      ],
      "source": [
        "# count 'words' (rough regex method)\n",
        "num_words_before = corp.str.count(r'\\S+').sum()\n",
        "\n",
        "print(f'Number of words in corpus before cleaning: {num_words_before:,}')"
      ]
    },
    {
      "cell_type": "markdown",
      "metadata": {},
      "source": [
        "### Remove anchor HTML tags (\\<a\\>)\n",
        "\n",
        "TODO: Do this with an HTML parser like Beautiful Soup."
      ]
    },
    {
      "cell_type": "code",
      "execution_count": 12,
      "metadata": {},
      "outputs": [
        {
          "name": "stdout",
          "output_type": "stream",
          "text": [
            "0\n"
          ]
        },
        {
          "data": {
            "text/plain": [
              "Series([], Name: comment_text, dtype: object)"
            ]
          },
          "execution_count": 12,
          "metadata": {},
          "output_type": "execute_result"
        }
      ],
      "source": [
        "regex = r'<a .*?>|</a>' # *? for non-greedy repetition\n",
        "\n",
        "# count matches\n",
        "print(corp.str.count(regex, flags=re.I).sum())\n",
        "\n",
        "# show some rows containing the pattern\n",
        "corp[corp.str.contains(regex, na=False, case=False)].head()"
      ]
    },
    {
      "cell_type": "code",
      "execution_count": 13,
      "metadata": {},
      "outputs": [
        {
          "name": "stdout",
          "output_type": "stream",
          "text": [
            "0\n"
          ]
        }
      ],
      "source": [
        "# replace pattern\n",
        "corp = corp.str.replace(regex, '', regex=True, case=False)\n",
        "\n",
        "# count matches again, should be 0\n",
        "print(corp.str.count(regex, flags=re.I).sum())"
      ]
    },
    {
      "cell_type": "markdown",
      "metadata": {},
      "source": [
        "### Remove URLs"
      ]
    },
    {
      "cell_type": "code",
      "execution_count": 14,
      "metadata": {},
      "outputs": [
        {
          "name": "stdout",
          "output_type": "stream",
          "text": [
            "306\n"
          ]
        },
        {
          "data": {
            "text/plain": [
              "1030589                                                                                                                                                                                                                                                                                                                                                                                                                                                                                                                                                                                                           \"Rather than accept the theory that the purpose of government is to protect man’s natural rights, the Progressives put forward the notion that government’s primary purpose is to ensure fairness and economic equality.\"\\n\\nhttp://www.americanthinker.com/articles/2017/07/americas_long_march_toward_a_secular_socialist_democracy.html\\n\\nTeam Hobbes?  Or team Locke?  Hmmm.  I choose Locke.  What say you all?\n",
              "686378     I don't have a clear view of what has happened in Syria, other than that Russia is in Syria legally, while the USA-led coalition is there illegally, and as an invasion... but I can see for myself that Western media has crafted a disingenuous and fictitious one-sided narrative of the conflict. Here's some of the side that isn't represented in Canadians news media:\\n\\nhttps://www.amnesty.org/en/latest/news/2016/10/usa-must-come-clean-about-civilian-deaths-caused-by-coalition-air-strikes-in-syria/\\nhttps://www.almasdarnews.com/article/french-air-force-avenges-nice-massacre-kills-100-civilians-pictures/\\nhttps://youtu.be/GoFN6DztpZ8\\nhttps://www.youtube.com/watch?v=zmEK-Oaht-w\\n\\nAnd Syrian celebrations of rebel defeat in Aleppo:\\nhttps://youtu.be/vm-jj88-E8c\\nhttps://youtu.be/t-zx39M_h-0\\nhttps://youtu.be/NhQaGNlzsl0\\nhttps://youtu.be/CicRJTjVlgw\\n\\nAnd of rebel defeat in other parts of Syria, previously in this year:\\nhttps://youtu.be/msxWIXGJE80\\nhttps://youtu.be/MI1y5MDHGzY\n",
              "839468                                                                                                                                                                                                                                                                                                                                                                                                                                                                                                                                                                                                                                                                                                                                                                                                                                                                                                                                                                                  Right back at you\\nhttps://wattsupwiththat.com/\n",
              "536464                                                                                                                                                                                                                                                                                                                                                                                                                                                                                                                                                                                                                                                                                                                                                                                                                                                                                 What a loss. I’m so sorry to hear this. Short video: No Viet Cong. Called Me Nigger https://www.youtube.com/watch?v=vd9aIamXjQI&feature=youtu.be\n",
              "1637466                                                                                                                                            Sanctuary Cities are nothing more than holding pens for prey for Illegal Alien Criminals.  Never mentioned is the existence of the U Visa which protects Illegal Aliens who report or are a victim of crime.  I wonder why?\\n\\nhttps://www.nytimes.com/2017/05/08/us/legal-immigrants-who-oppose-illegal-immigration.html?_r=2\\nU.S.Sanctuary Bills in Maryland Faced a Surprise Foe: Legal Immigrants\\n\\n\"The failure of the sanctuary bills in Maryland reveals a potentially troublesome fissure for Democrats as they rush to defy Mr. Trump. Their party has staked out an activist position built around protecting undocumented immigrants. But it is one that has alienated many who might have been expected to support it.\"\\n\\nObama administration has admitted that Sanctuary Cities are a problem:\\nhttp://culberson.house.gov/uploadedfiles/doj_february_23_letter.pdf\n",
              "Name: comment_text, dtype: object"
            ]
          },
          "execution_count": 14,
          "metadata": {},
          "output_type": "execute_result"
        }
      ],
      "source": [
        "regex = r'https?://\\S+'\n",
        "print(corp.str.count(regex, flags=re.I).sum())\n",
        "corp[corp.str.contains(regex, na=False, case=False)].head()"
      ]
    },
    {
      "cell_type": "code",
      "execution_count": 15,
      "metadata": {},
      "outputs": [
        {
          "name": "stdout",
          "output_type": "stream",
          "text": [
            "0\n"
          ]
        }
      ],
      "source": [
        "corp = corp.str.replace(regex, '', regex=True, case=False)\n",
        "print(corp.str.count(regex, flags=re.I).sum())"
      ]
    },
    {
      "cell_type": "markdown",
      "metadata": {},
      "source": [
        "### Remove whitespace except for spaces\n",
        "\n",
        "\\r actually causes an error when loading the saved csv file with read_csv() (just C engine, Python engine works).  \n",
        "\\u2028 = Unicode line seperator."
      ]
    },
    {
      "cell_type": "code",
      "execution_count": 16,
      "metadata": {},
      "outputs": [
        {
          "name": "stdout",
          "output_type": "stream",
          "text": [
            "11133\n"
          ]
        },
        {
          "data": {
            "text/plain": [
              "1610665                                                                                                                 Naturally you can feel it in your urine. \\nThat's one of the common expressions in the Germanic languages and the hallmark of those who, after the fact, say they knew that all along.   ;)\n",
              "1295718                                                                                                                                                                                               \"The shortage of priests is not a shortage of vocations but a shortness of sight.\"\\n\\nExactly! Very well put!\n",
              "867320                                                                                                                                                                                                             Trudeau Derangement Syndrome - every bit as bad as Harper Derangement Syndrom.\\n\\nGet some help.\n",
              "374915                                                                                                                                                                                                              Base price is $35K. With \"options\" $42K. \\nWonder what the buyer doesn't get at the base price?\n",
              "1030589    \"Rather than accept the theory that the purpose of government is to protect man’s natural rights, the Progressives put forward the notion that government’s primary purpose is to ensure fairness and economic equality.\"\\n\\n\\n\\nTeam Hobbes?  Or team Locke?  Hmmm.  I choose Locke.  What say you all?\n",
              "Name: comment_text, dtype: object"
            ]
          },
          "execution_count": 16,
          "metadata": {},
          "output_type": "execute_result"
        }
      ],
      "source": [
        "regex = r'[\\t\\n\\r\\f\\v\\u2028]'\n",
        "print(corp.str.count(regex, flags=re.I).sum())\n",
        "corp[corp.str.contains(regex, na=False, case=False)].head()"
      ]
    },
    {
      "cell_type": "code",
      "execution_count": 17,
      "metadata": {},
      "outputs": [
        {
          "name": "stdout",
          "output_type": "stream",
          "text": [
            "0\n"
          ]
        }
      ],
      "source": [
        "corp = corp.str.replace(regex, ' ', regex=True, case=False)\n",
        "print(corp.str.count(regex, flags=re.I).sum())"
      ]
    },
    {
      "cell_type": "markdown",
      "metadata": {},
      "source": [
        "### Remove numbers"
      ]
    },
    {
      "cell_type": "code",
      "execution_count": 18,
      "metadata": {},
      "outputs": [
        {
          "name": "stdout",
          "output_type": "stream",
          "text": [
            "5284\n"
          ]
        },
        {
          "data": {
            "text/plain": [
              "789650                                                             Kiz for some reason has been anti-Siemian from way back. Maybe it's because his ceiling isn't high enough as he is only 6'3\" instead of 6'7\".  Woody, on the other hand, just wrote a great column about Touchdown Trevor. It is worth reading and easy to find. That touch pass to Sanders at the back of the end zone was a thing of beauty.  I guess Kiz missed that play.\n",
              "374915                                                                                                                                                                                                                                                                                                                                            Base price is $35K. With \"options\" $42K.  Wonder what the buyer doesn't get at the base price?\n",
              "632685                                                                       Vote them all out. I will never again vote for anyone who associates themselves with either party. One party wants to take your money and give it to the rich corporations and the other party wants to take your money and give it to someone with 5 kids that does not work; and worse yet; both parties want to give it to a broken, high paid education system.\n",
              "1665193                                                                                                                                                                                                   Did you go look at his link, Muz?  \"As Trump's contract rose and was trading at 26 cents, the Democratic presidential nominee's Predict It contract traded lower at 77 cents.\"  It's rather simple...77 cents is higher than 26 cents.\n",
              "1313840    The ontario economy in jobs is so far down from when they were first elected never mind the crash in 08, they own the mess we are in and are doing nothing but more harm to our jobs and economy every day. we have had very low can dollar and still cant turn things around here while the ROC seams to be doing just that such the ontario liberals being the most corrupt and incompetent government in our history owns our mess\n",
              "Name: comment_text, dtype: object"
            ]
          },
          "execution_count": 18,
          "metadata": {},
          "output_type": "execute_result"
        }
      ],
      "source": [
        "regex = r'\\d+'\n",
        "print(corp.str.count(regex, flags=re.I).sum())\n",
        "corp[corp.str.contains(regex, na=False, case=False)].head()"
      ]
    },
    {
      "cell_type": "code",
      "execution_count": 19,
      "metadata": {},
      "outputs": [
        {
          "name": "stdout",
          "output_type": "stream",
          "text": [
            "0\n"
          ]
        }
      ],
      "source": [
        "corp = corp.str.replace(regex, ' ', regex=True, case=False)\n",
        "print(corp.str.count(regex, flags=re.I).sum())"
      ]
    },
    {
      "cell_type": "markdown",
      "metadata": {},
      "source": [
        "### Manually \"unmask\" morst frequent swearwords, insults etc. (e.g. f*ck, cr@p)\n",
        "\n",
        "Also correct some (on-purpose) misspellings that reflect pronunciation, e.g. \"huuuge\", \"stooopid\".\n",
        "\n",
        "TODO: Implement autocorrection."
      ]
    },
    {
      "cell_type": "code",
      "execution_count": 20,
      "metadata": {},
      "outputs": [
        {
          "name": "stdout",
          "output_type": "stream",
          "text": [
            "76\n"
          ]
        },
        {
          "data": {
            "text/plain": [
              "comment_text\n",
              "[]    9942\n",
              "Name: count, dtype: int64"
            ]
          },
          "execution_count": 20,
          "metadata": {},
          "output_type": "execute_result"
        }
      ],
      "source": [
        "# search patterns used to create list of replacements (see next\n",
        "# code cell)\n",
        "\n",
        "regex = r'\\S*\\*\\S+'\n",
        "#regex = r'\\S*@\\S+'\n",
        "#regex = r'\\S*#\\S+'\n",
        "#regex = r'\\S*a{3,}\\S*'\n",
        "#regex = r'\\S*e{3,}\\S*'\n",
        "#regex = r'\\S*i{3,}\\S*'\n",
        "#regex = r'\\S*o{3,}\\S*'\n",
        "#regex = r'\\S*u{3,}\\S*'\n",
        "\n",
        "print(corp.str.count(regex, flags=re.I).sum())\n",
        "all_matches = corp.str.findall(regex, flags=re.I).value_counts()\n",
        "all_matches[all_matches > 5]"
      ]
    },
    {
      "cell_type": "code",
      "execution_count": 21,
      "metadata": {},
      "outputs": [],
      "source": [
        "match_list = '(?i)f*ck, (?i)sh*t, (?i)s**t, (?i)f***, (?i)p***y, (?i)b*tch, (?i)f**k, (?i)p*ssy, (?i)p****, (?i)s***, (?i)a**, (?i)h*ll, (?i)h***, (?i)sh*t, (?i)pu**y, (?i)sh**, (?i)cr*p, (?i)@ss, (?i)cr@p, (?i)b@lls, (?i)f@ck, (?i)waaay, (?i)waaaay, (?i)riiiight, (?i)soo+, (?i)stooooopid, (?i)huu+ge, (?i)yuu+ge, (?i)suu+re'\\\n",
        "    .replace('*', r'\\*').split(', ')\n",
        "replace_list = 'fuck, shit, shit, fuck, pussy, bitch, fuck, pussy, pussy, shit, ass, hell, hell, shit, pussy, shit, crap, ass, crap, balls, fuck, way, way, right, so, stupid, huge, huge, sure'\\\n",
        "    .split(', ')\n",
        "\n",
        "corp.replace(match_list, replace_list, regex=True, inplace=True)"
      ]
    },
    {
      "cell_type": "markdown",
      "metadata": {},
      "source": [
        "### Remove multiple spaces"
      ]
    },
    {
      "cell_type": "code",
      "execution_count": 22,
      "metadata": {},
      "outputs": [
        {
          "name": "stdout",
          "output_type": "stream",
          "text": [
            "18209\n"
          ]
        },
        {
          "data": {
            "text/plain": [
              "1610665                                                                                                                                       Naturally you can feel it in your urine.  That's one of the common expressions in the Germanic languages and the hallmark of those who, after the fact, say they knew that all along.   ;)\n",
              "495126                                                                                                                                                                                                                                                                           Yum!  What's not to love: water+maple syrup - together.\n",
              "431396     Catou I will wager that mutual fund sales will be just as strong this RRSP season as last year.  The fact is that your typical mutual fund owner isn't going to suddenly discover DIY investing in individual stocks and salesperson at the bank isn't going to suddenly abandon the sales pitch for lower cost ETFs or GICs.\n",
              "1295718                                                                                                                                                                                                                      \"The shortage of priests is not a shortage of vocations but a shortness of sight.\"  Exactly! Very well put!\n",
              "976288                                                                                                                      Isn't the point that political donations should be from individuals, not corporations or unions, which are not voting citizens.  I expect CEOs are voters too and deserve the same rights as other citizens.\n",
              "Name: comment_text, dtype: object"
            ]
          },
          "execution_count": 22,
          "metadata": {},
          "output_type": "execute_result"
        }
      ],
      "source": [
        "regex = r' {2,}'\n",
        "print(corp.str.count(regex, flags=re.I).sum())\n",
        "corp[corp.str.contains(regex, na=False, case=False)].head()"
      ]
    },
    {
      "cell_type": "code",
      "execution_count": 23,
      "metadata": {},
      "outputs": [
        {
          "name": "stdout",
          "output_type": "stream",
          "text": [
            "0\n"
          ]
        }
      ],
      "source": [
        "corp = corp.str.replace(regex, ' ', regex=True, case=False)\n",
        "print(corp.str.count(regex, flags=re.I).sum())"
      ]
    },
    {
      "cell_type": "markdown",
      "metadata": {},
      "source": [
        "### Show data size after cleaning"
      ]
    },
    {
      "cell_type": "code",
      "execution_count": 24,
      "metadata": {},
      "outputs": [
        {
          "name": "stdout",
          "output_type": "stream",
          "text": [
            "Number of words in corpus after cleaning: 508,166 (before: 509,339)\n"
          ]
        }
      ],
      "source": [
        "num_words_after = corp.str.count(r'\\S+', flags=re.I).sum()\n",
        "\n",
        "print(f'Number of words in corpus after cleaning: {num_words_after:,} (before: {num_words_before:,})')"
      ]
    },
    {
      "cell_type": "markdown",
      "metadata": {},
      "source": [
        "## Preprocess data with spaCy (based on Eric's pipeline)\n",
        "\n",
        "See: https://realpython.com/natural-language-processing-spacy-python/\n",
        "\n",
        "TODO: Check if this can also be done with NLTK. Faster?"
      ]
    },
    {
      "cell_type": "code",
      "execution_count": 25,
      "metadata": {},
      "outputs": [],
      "source": [
        "# load English language model\n",
        "nlp = spacy.load('en_core_web_sm')"
      ]
    },
    {
      "cell_type": "markdown",
      "metadata": {},
      "source": [
        "### Tokenize, remove punctuation, make lower case, lemmatize, remove stop words"
      ]
    },
    {
      "cell_type": "code",
      "execution_count": 26,
      "metadata": {},
      "outputs": [],
      "source": [
        "def preprocess(s):\n",
        "    doc = nlp(s)\n",
        "    \n",
        "    tokens = [token.text.lower()\n",
        "              for token in doc\n",
        "              if not token.is_punct]\n",
        "    \n",
        "    tokens_lemma = [token.lemma_.lower()\n",
        "              for token in doc\n",
        "              if not token.is_punct]\n",
        "    \n",
        "    tokens_lemma_stop = [token.lemma_.lower()\n",
        "              for token in doc\n",
        "              if not token.is_punct and not token.is_stop]\n",
        "    \n",
        "    # convert lists to space-separated strings and return as Series\n",
        "    return pd.Series([' '.join(tokens),\n",
        "                      ' '.join(tokens_lemma),\n",
        "                      ' '.join(tokens_lemma_stop)],\n",
        "                      index=['clean_pp',\n",
        "                             'clean_pp_lemma',\n",
        "                             'clean_pp_lemma_stop'])"
      ]
    },
    {
      "cell_type": "code",
      "execution_count": 27,
      "metadata": {},
      "outputs": [
        {
          "name": "stderr",
          "output_type": "stream",
          "text": [
            "100%|██████████| 10000/10000 [03:12<00:00, 52.03it/s]\n"
          ]
        },
        {
          "data": {
            "text/html": [
              "<div>\n",
              "<style scoped>\n",
              "    .dataframe tbody tr th:only-of-type {\n",
              "        vertical-align: middle;\n",
              "    }\n",
              "\n",
              "    .dataframe tbody tr th {\n",
              "        vertical-align: top;\n",
              "    }\n",
              "\n",
              "    .dataframe thead th {\n",
              "        text-align: right;\n",
              "    }\n",
              "</style>\n",
              "<table border=\"1\" class=\"dataframe\">\n",
              "  <thead>\n",
              "    <tr style=\"text-align: right;\">\n",
              "      <th></th>\n",
              "      <th>clean_pp</th>\n",
              "      <th>clean_pp_lemma</th>\n",
              "      <th>clean_pp_lemma_stop</th>\n",
              "    </tr>\n",
              "  </thead>\n",
              "  <tbody>\n",
              "    <tr>\n",
              "      <th>1610665</th>\n",
              "      <td>naturally you can feel it in your urine that 's one of the common expressions in the germanic languages and the hallmark of those who after the fact say they knew that all along</td>\n",
              "      <td>naturally you can feel it in your urine that be one of the common expression in the germanic language and the hallmark of those who after the fact say they know that all along</td>\n",
              "      <td>naturally feel urine common expression germanic language hallmark fact know</td>\n",
              "    </tr>\n",
              "    <tr>\n",
              "      <th>495126</th>\n",
              "      <td>yum what 's not to love water+maple syrup together</td>\n",
              "      <td>yum what be not to love water+maple syrup together</td>\n",
              "      <td>yum love water+maple syrup</td>\n",
              "    </tr>\n",
              "    <tr>\n",
              "      <th>431396</th>\n",
              "      <td>catou i will wager that mutual fund sales will be just as strong this rrsp season as last year the fact is that your typical mutual fund owner is n't going to suddenly discover diy investing in individual stocks and salesperson at the bank is n't going to suddenly abandon the sales pitch for lower cost etfs or gics</td>\n",
              "      <td>catou i will wager that mutual fund sale will be just as strong this rrsp season as last year the fact be that your typical mutual fund owner be not go to suddenly discover diy invest in individual stock and salesperson at the bank be not go to suddenly abandon the sale pitch for low cost etf or gic</td>\n",
              "      <td>catou wager mutual fund sale strong rrsp season year fact typical mutual fund owner go suddenly discover diy invest individual stock salesperson bank go suddenly abandon sale pitch low cost etf gic</td>\n",
              "    </tr>\n",
              "    <tr>\n",
              "      <th>1295718</th>\n",
              "      <td>the shortage of priests is not a shortage of vocations but a shortness of sight exactly very well put</td>\n",
              "      <td>the shortage of priest be not a shortage of vocation but a shortness of sight exactly very well put</td>\n",
              "      <td>shortage priest shortage vocation shortness sight exactly</td>\n",
              "    </tr>\n",
              "    <tr>\n",
              "      <th>859224</th>\n",
              "      <td>i do nt disagree with that it takes money to deal drugs street level drug sales people they nit really dealers are from many parts of the federal population</td>\n",
              "      <td>i do not disagree with that it take money to deal drug street level drug sale people they nit really dealer be from many part of the federal population</td>\n",
              "      <td>not disagree take money deal drug street level drug sale people nit dealer part federal population</td>\n",
              "    </tr>\n",
              "  </tbody>\n",
              "</table>\n",
              "</div>"
            ],
            "text/plain": [
              "                                                                                                                                                                                                                                                                                                                             clean_pp  \\\n",
              "1610665                                                                                                                                             naturally you can feel it in your urine that 's one of the common expressions in the germanic languages and the hallmark of those who after the fact say they knew that all along   \n",
              "495126                                                                                                                                                                                                                                                                             yum what 's not to love water+maple syrup together   \n",
              "431396   catou i will wager that mutual fund sales will be just as strong this rrsp season as last year the fact is that your typical mutual fund owner is n't going to suddenly discover diy investing in individual stocks and salesperson at the bank is n't going to suddenly abandon the sales pitch for lower cost etfs or gics   \n",
              "1295718                                                                                                                                                                                                                         the shortage of priests is not a shortage of vocations but a shortness of sight exactly very well put   \n",
              "859224                                                                                                                                                                   i do nt disagree with that it takes money to deal drugs street level drug sales people they nit really dealers are from many parts of the federal population   \n",
              "\n",
              "                                                                                                                                                                                                                                                                                                       clean_pp_lemma  \\\n",
              "1610665                                                                                                                               naturally you can feel it in your urine that be one of the common expression in the germanic language and the hallmark of those who after the fact say they know that all along   \n",
              "495126                                                                                                                                                                                                                                                             yum what be not to love water+maple syrup together   \n",
              "431396   catou i will wager that mutual fund sale will be just as strong this rrsp season as last year the fact be that your typical mutual fund owner be not go to suddenly discover diy invest in individual stock and salesperson at the bank be not go to suddenly abandon the sale pitch for low cost etf or gic   \n",
              "1295718                                                                                                                                                                                                           the shortage of priest be not a shortage of vocation but a shortness of sight exactly very well put   \n",
              "859224                                                                                                                                                        i do not disagree with that it take money to deal drug street level drug sale people they nit really dealer be from many part of the federal population   \n",
              "\n",
              "                                                                                                                                                                                           clean_pp_lemma_stop  \n",
              "1610665                                                                                                                            naturally feel urine common expression germanic language hallmark fact know  \n",
              "495126                                                                                                                                                                              yum love water+maple syrup  \n",
              "431396   catou wager mutual fund sale strong rrsp season year fact typical mutual fund owner go suddenly discover diy invest individual stock salesperson bank go suddenly abandon sale pitch low cost etf gic  \n",
              "1295718                                                                                                                                              shortage priest shortage vocation shortness sight exactly  \n",
              "859224                                                                                                      not disagree take money deal drug street level drug sale people nit dealer part federal population  "
            ]
          },
          "execution_count": 27,
          "metadata": {},
          "output_type": "execute_result"
        }
      ],
      "source": [
        "corp_pp = corp.progress_apply(preprocess)\n",
        "corp_pp.head()"
      ]
    },
    {
      "cell_type": "markdown",
      "metadata": {},
      "source": [
        "## Create new df with raw + cleaned + preprocessed comments + target"
      ]
    },
    {
      "cell_type": "code",
      "execution_count": 28,
      "metadata": {},
      "outputs": [
        {
          "data": {
            "text/html": [
              "<div>\n",
              "<style scoped>\n",
              "    .dataframe tbody tr th:only-of-type {\n",
              "        vertical-align: middle;\n",
              "    }\n",
              "\n",
              "    .dataframe tbody tr th {\n",
              "        vertical-align: top;\n",
              "    }\n",
              "\n",
              "    .dataframe thead th {\n",
              "        text-align: right;\n",
              "    }\n",
              "</style>\n",
              "<table border=\"1\" class=\"dataframe\">\n",
              "  <thead>\n",
              "    <tr style=\"text-align: right;\">\n",
              "      <th></th>\n",
              "      <th>raw</th>\n",
              "      <th>clean</th>\n",
              "      <th>clean_pp</th>\n",
              "      <th>clean_pp_lemma</th>\n",
              "      <th>clean_pp_lemma_stop</th>\n",
              "      <th>toxic</th>\n",
              "    </tr>\n",
              "  </thead>\n",
              "  <tbody>\n",
              "    <tr>\n",
              "      <th>1610665</th>\n",
              "      <td>Naturally you can feel it in your urine. \\nThat's one of the common expressions in the Germanic languages and the hallmark of those who, after the fact, say they knew that all along.   ;)</td>\n",
              "      <td>Naturally you can feel it in your urine. That's one of the common expressions in the Germanic languages and the hallmark of those who, after the fact, say they knew that all along. ;)</td>\n",
              "      <td>naturally you can feel it in your urine that 's one of the common expressions in the germanic languages and the hallmark of those who after the fact say they knew that all along</td>\n",
              "      <td>naturally you can feel it in your urine that be one of the common expression in the germanic language and the hallmark of those who after the fact say they know that all along</td>\n",
              "      <td>naturally feel urine common expression germanic language hallmark fact know</td>\n",
              "      <td>0</td>\n",
              "    </tr>\n",
              "    <tr>\n",
              "      <th>495126</th>\n",
              "      <td>Yum!  What's not to love: water+maple syrup - together.</td>\n",
              "      <td>Yum! What's not to love: water+maple syrup - together.</td>\n",
              "      <td>yum what 's not to love water+maple syrup together</td>\n",
              "      <td>yum what be not to love water+maple syrup together</td>\n",
              "      <td>yum love water+maple syrup</td>\n",
              "      <td>0</td>\n",
              "    </tr>\n",
              "    <tr>\n",
              "      <th>431396</th>\n",
              "      <td>Catou I will wager that mutual fund sales will be just as strong this RRSP season as last year.  The fact is that your typical mutual fund owner isn't going to suddenly discover DIY investing in individual stocks and salesperson at the bank isn't going to suddenly abandon the sales pitch for lower cost ETFs or GICs.</td>\n",
              "      <td>Catou I will wager that mutual fund sales will be just as strong this RRSP season as last year. The fact is that your typical mutual fund owner isn't going to suddenly discover DIY investing in individual stocks and salesperson at the bank isn't going to suddenly abandon the sales pitch for lower cost ETFs or GICs.</td>\n",
              "      <td>catou i will wager that mutual fund sales will be just as strong this rrsp season as last year the fact is that your typical mutual fund owner is n't going to suddenly discover diy investing in individual stocks and salesperson at the bank is n't going to suddenly abandon the sales pitch for lower cost etfs or gics</td>\n",
              "      <td>catou i will wager that mutual fund sale will be just as strong this rrsp season as last year the fact be that your typical mutual fund owner be not go to suddenly discover diy invest in individual stock and salesperson at the bank be not go to suddenly abandon the sale pitch for low cost etf or gic</td>\n",
              "      <td>catou wager mutual fund sale strong rrsp season year fact typical mutual fund owner go suddenly discover diy invest individual stock salesperson bank go suddenly abandon sale pitch low cost etf gic</td>\n",
              "      <td>0</td>\n",
              "    </tr>\n",
              "    <tr>\n",
              "      <th>1295718</th>\n",
              "      <td>\"The shortage of priests is not a shortage of vocations but a shortness of sight.\"\\n\\nExactly! Very well put!</td>\n",
              "      <td>\"The shortage of priests is not a shortage of vocations but a shortness of sight.\" Exactly! Very well put!</td>\n",
              "      <td>the shortage of priests is not a shortage of vocations but a shortness of sight exactly very well put</td>\n",
              "      <td>the shortage of priest be not a shortage of vocation but a shortness of sight exactly very well put</td>\n",
              "      <td>shortage priest shortage vocation shortness sight exactly</td>\n",
              "      <td>0</td>\n",
              "    </tr>\n",
              "    <tr>\n",
              "      <th>859224</th>\n",
              "      <td>I dont disagree with that. It takes money to deal drugs. Street level drug sales people, they nit really dealers, are from many parts of the federal population.</td>\n",
              "      <td>I dont disagree with that. It takes money to deal drugs. Street level drug sales people, they nit really dealers, are from many parts of the federal population.</td>\n",
              "      <td>i do nt disagree with that it takes money to deal drugs street level drug sales people they nit really dealers are from many parts of the federal population</td>\n",
              "      <td>i do not disagree with that it take money to deal drug street level drug sale people they nit really dealer be from many part of the federal population</td>\n",
              "      <td>not disagree take money deal drug street level drug sale people nit dealer part federal population</td>\n",
              "      <td>0</td>\n",
              "    </tr>\n",
              "  </tbody>\n",
              "</table>\n",
              "</div>"
            ],
            "text/plain": [
              "                                                                                                                                                                                                                                                                                                                                   raw  \\\n",
              "1610665                                                                                                                                    Naturally you can feel it in your urine. \\nThat's one of the common expressions in the Germanic languages and the hallmark of those who, after the fact, say they knew that all along.   ;)   \n",
              "495126                                                                                                                                                                                                                                                                         Yum!  What's not to love: water+maple syrup - together.   \n",
              "431396   Catou I will wager that mutual fund sales will be just as strong this RRSP season as last year.  The fact is that your typical mutual fund owner isn't going to suddenly discover DIY investing in individual stocks and salesperson at the bank isn't going to suddenly abandon the sales pitch for lower cost ETFs or GICs.   \n",
              "1295718                                                                                                                                                                                                                  \"The shortage of priests is not a shortage of vocations but a shortness of sight.\"\\n\\nExactly! Very well put!   \n",
              "859224                                                                                                                                                                I dont disagree with that. It takes money to deal drugs. Street level drug sales people, they nit really dealers, are from many parts of the federal population.   \n",
              "\n",
              "                                                                                                                                                                                                                                                                                                                                clean  \\\n",
              "1610665                                                                                                                                       Naturally you can feel it in your urine. That's one of the common expressions in the Germanic languages and the hallmark of those who, after the fact, say they knew that all along. ;)   \n",
              "495126                                                                                                                                                                                                                                                                         Yum! What's not to love: water+maple syrup - together.   \n",
              "431396   Catou I will wager that mutual fund sales will be just as strong this RRSP season as last year. The fact is that your typical mutual fund owner isn't going to suddenly discover DIY investing in individual stocks and salesperson at the bank isn't going to suddenly abandon the sales pitch for lower cost ETFs or GICs.   \n",
              "1295718                                                                                                                                                                                                                    \"The shortage of priests is not a shortage of vocations but a shortness of sight.\" Exactly! Very well put!   \n",
              "859224                                                                                                                                                               I dont disagree with that. It takes money to deal drugs. Street level drug sales people, they nit really dealers, are from many parts of the federal population.   \n",
              "\n",
              "                                                                                                                                                                                                                                                                                                                             clean_pp  \\\n",
              "1610665                                                                                                                                             naturally you can feel it in your urine that 's one of the common expressions in the germanic languages and the hallmark of those who after the fact say they knew that all along   \n",
              "495126                                                                                                                                                                                                                                                                             yum what 's not to love water+maple syrup together   \n",
              "431396   catou i will wager that mutual fund sales will be just as strong this rrsp season as last year the fact is that your typical mutual fund owner is n't going to suddenly discover diy investing in individual stocks and salesperson at the bank is n't going to suddenly abandon the sales pitch for lower cost etfs or gics   \n",
              "1295718                                                                                                                                                                                                                         the shortage of priests is not a shortage of vocations but a shortness of sight exactly very well put   \n",
              "859224                                                                                                                                                                   i do nt disagree with that it takes money to deal drugs street level drug sales people they nit really dealers are from many parts of the federal population   \n",
              "\n",
              "                                                                                                                                                                                                                                                                                                       clean_pp_lemma  \\\n",
              "1610665                                                                                                                               naturally you can feel it in your urine that be one of the common expression in the germanic language and the hallmark of those who after the fact say they know that all along   \n",
              "495126                                                                                                                                                                                                                                                             yum what be not to love water+maple syrup together   \n",
              "431396   catou i will wager that mutual fund sale will be just as strong this rrsp season as last year the fact be that your typical mutual fund owner be not go to suddenly discover diy invest in individual stock and salesperson at the bank be not go to suddenly abandon the sale pitch for low cost etf or gic   \n",
              "1295718                                                                                                                                                                                                           the shortage of priest be not a shortage of vocation but a shortness of sight exactly very well put   \n",
              "859224                                                                                                                                                        i do not disagree with that it take money to deal drug street level drug sale people they nit really dealer be from many part of the federal population   \n",
              "\n",
              "                                                                                                                                                                                           clean_pp_lemma_stop  \\\n",
              "1610665                                                                                                                            naturally feel urine common expression germanic language hallmark fact know   \n",
              "495126                                                                                                                                                                              yum love water+maple syrup   \n",
              "431396   catou wager mutual fund sale strong rrsp season year fact typical mutual fund owner go suddenly discover diy invest individual stock salesperson bank go suddenly abandon sale pitch low cost etf gic   \n",
              "1295718                                                                                                                                              shortage priest shortage vocation shortness sight exactly   \n",
              "859224                                                                                                      not disagree take money deal drug street level drug sale people nit dealer part federal population   \n",
              "\n",
              "         toxic  \n",
              "1610665      0  \n",
              "495126       0  \n",
              "431396       0  \n",
              "1295718      0  \n",
              "859224       0  "
            ]
          },
          "execution_count": 28,
          "metadata": {},
          "output_type": "execute_result"
        }
      ],
      "source": [
        "df_new = pd.concat([df['comment_text'],\n",
        "                    corp,\n",
        "                    corp_pp['clean_pp'],\n",
        "                    corp_pp['clean_pp_lemma'],\n",
        "                    corp_pp['clean_pp_lemma_stop'],\n",
        "                    df['toxic']], axis=1)\n",
        "\n",
        "# column names\n",
        "df_new.columns = ['raw',\n",
        "                  'clean',\n",
        "                  'clean_pp',\n",
        "                  'clean_pp_lemma',\n",
        "                  'clean_pp_lemma_stop',\n",
        "                  'toxic']\n",
        "\n",
        "df_new.head()"
      ]
    },
    {
      "cell_type": "markdown",
      "metadata": {},
      "source": [
        "## Drop rows with NaN's\n",
        "\n",
        "Has to be done again because spaCy preprocessing can lead to empty strings."
      ]
    },
    {
      "cell_type": "code",
      "execution_count": 29,
      "metadata": {},
      "outputs": [],
      "source": [
        "# convert empty strings to NaN\n",
        "df_new.replace('', np.NaN, inplace=True)"
      ]
    },
    {
      "cell_type": "code",
      "execution_count": 30,
      "metadata": {},
      "outputs": [
        {
          "name": "stdout",
          "output_type": "stream",
          "text": [
            "Rows before dropping: 10000\n",
            "Rows after dropping: 9964\n",
            "Rows dropped: 36\n"
          ]
        }
      ],
      "source": [
        "df_new.isna().sum()\n",
        "rows_before = df_new.shape[0]\n",
        "print(\"Rows before dropping:\", rows_before)\n",
        "df_new.dropna(inplace=True)\n",
        "df_new.reset_index(drop=True, inplace=True)\n",
        "rows_after = df_new.shape[0]\n",
        "print('Rows after dropping:', rows_after)\n",
        "print('Rows dropped:', rows_before - rows_after)"
      ]
    },
    {
      "cell_type": "code",
      "execution_count": 31,
      "metadata": {},
      "outputs": [
        {
          "name": "stdout",
          "output_type": "stream",
          "text": [
            "<class 'pandas.core.frame.DataFrame'>\n",
            "RangeIndex: 9964 entries, 0 to 9963\n",
            "Data columns (total 6 columns):\n",
            " #   Column               Non-Null Count  Dtype \n",
            "---  ------               --------------  ----- \n",
            " 0   raw                  9964 non-null   object\n",
            " 1   clean                9964 non-null   object\n",
            " 2   clean_pp             9964 non-null   object\n",
            " 3   clean_pp_lemma       9964 non-null   object\n",
            " 4   clean_pp_lemma_stop  9964 non-null   object\n",
            " 5   toxic                9964 non-null   int32 \n",
            "dtypes: int32(1), object(5)\n",
            "memory usage: 428.3+ KB\n"
          ]
        }
      ],
      "source": [
        "df_new.info()"
      ]
    },
    {
      "cell_type": "markdown",
      "metadata": {},
      "source": [
        "## Save CSV file"
      ]
    },
    {
      "cell_type": "code",
      "execution_count": 32,
      "metadata": {},
      "outputs": [],
      "source": [
        "df_new.to_csv('data/lexiguard_data.csv', index=False)"
      ]
    },
    {
      "cell_type": "code",
      "execution_count": 33,
      "metadata": {},
      "outputs": [
        {
          "data": {
            "text/html": [
              "<div>\n",
              "<style scoped>\n",
              "    .dataframe tbody tr th:only-of-type {\n",
              "        vertical-align: middle;\n",
              "    }\n",
              "\n",
              "    .dataframe tbody tr th {\n",
              "        vertical-align: top;\n",
              "    }\n",
              "\n",
              "    .dataframe thead th {\n",
              "        text-align: right;\n",
              "    }\n",
              "</style>\n",
              "<table border=\"1\" class=\"dataframe\">\n",
              "  <thead>\n",
              "    <tr style=\"text-align: right;\">\n",
              "      <th></th>\n",
              "      <th>raw</th>\n",
              "      <th>clean</th>\n",
              "      <th>clean_pp</th>\n",
              "      <th>clean_pp_lemma</th>\n",
              "      <th>clean_pp_lemma_stop</th>\n",
              "      <th>toxic</th>\n",
              "    </tr>\n",
              "  </thead>\n",
              "  <tbody>\n",
              "    <tr>\n",
              "      <th>0</th>\n",
              "      <td>Naturally you can feel it in your urine. \\nThat's one of the common expressions in the Germanic languages and the hallmark of those who, after the fact, say they knew that all along.   ;)</td>\n",
              "      <td>Naturally you can feel it in your urine. That's one of the common expressions in the Germanic languages and the hallmark of those who, after the fact, say they knew that all along. ;)</td>\n",
              "      <td>naturally you can feel it in your urine that 's one of the common expressions in the germanic languages and the hallmark of those who after the fact say they knew that all along</td>\n",
              "      <td>naturally you can feel it in your urine that be one of the common expression in the germanic language and the hallmark of those who after the fact say they know that all along</td>\n",
              "      <td>naturally feel urine common expression germanic language hallmark fact know</td>\n",
              "      <td>0</td>\n",
              "    </tr>\n",
              "    <tr>\n",
              "      <th>1</th>\n",
              "      <td>Yum!  What's not to love: water+maple syrup - together.</td>\n",
              "      <td>Yum! What's not to love: water+maple syrup - together.</td>\n",
              "      <td>yum what 's not to love water+maple syrup together</td>\n",
              "      <td>yum what be not to love water+maple syrup together</td>\n",
              "      <td>yum love water+maple syrup</td>\n",
              "      <td>0</td>\n",
              "    </tr>\n",
              "    <tr>\n",
              "      <th>2</th>\n",
              "      <td>Catou I will wager that mutual fund sales will be just as strong this RRSP season as last year.  The fact is that your typical mutual fund owner isn't going to suddenly discover DIY investing in individual stocks and salesperson at the bank isn't going to suddenly abandon the sales pitch for lower cost ETFs or GICs.</td>\n",
              "      <td>Catou I will wager that mutual fund sales will be just as strong this RRSP season as last year. The fact is that your typical mutual fund owner isn't going to suddenly discover DIY investing in individual stocks and salesperson at the bank isn't going to suddenly abandon the sales pitch for lower cost ETFs or GICs.</td>\n",
              "      <td>catou i will wager that mutual fund sales will be just as strong this rrsp season as last year the fact is that your typical mutual fund owner is n't going to suddenly discover diy investing in individual stocks and salesperson at the bank is n't going to suddenly abandon the sales pitch for lower cost etfs or gics</td>\n",
              "      <td>catou i will wager that mutual fund sale will be just as strong this rrsp season as last year the fact be that your typical mutual fund owner be not go to suddenly discover diy invest in individual stock and salesperson at the bank be not go to suddenly abandon the sale pitch for low cost etf or gic</td>\n",
              "      <td>catou wager mutual fund sale strong rrsp season year fact typical mutual fund owner go suddenly discover diy invest individual stock salesperson bank go suddenly abandon sale pitch low cost etf gic</td>\n",
              "      <td>0</td>\n",
              "    </tr>\n",
              "    <tr>\n",
              "      <th>3</th>\n",
              "      <td>\"The shortage of priests is not a shortage of vocations but a shortness of sight.\"\\n\\nExactly! Very well put!</td>\n",
              "      <td>\"The shortage of priests is not a shortage of vocations but a shortness of sight.\" Exactly! Very well put!</td>\n",
              "      <td>the shortage of priests is not a shortage of vocations but a shortness of sight exactly very well put</td>\n",
              "      <td>the shortage of priest be not a shortage of vocation but a shortness of sight exactly very well put</td>\n",
              "      <td>shortage priest shortage vocation shortness sight exactly</td>\n",
              "      <td>0</td>\n",
              "    </tr>\n",
              "    <tr>\n",
              "      <th>4</th>\n",
              "      <td>I dont disagree with that. It takes money to deal drugs. Street level drug sales people, they nit really dealers, are from many parts of the federal population.</td>\n",
              "      <td>I dont disagree with that. It takes money to deal drugs. Street level drug sales people, they nit really dealers, are from many parts of the federal population.</td>\n",
              "      <td>i do nt disagree with that it takes money to deal drugs street level drug sales people they nit really dealers are from many parts of the federal population</td>\n",
              "      <td>i do not disagree with that it take money to deal drug street level drug sale people they nit really dealer be from many part of the federal population</td>\n",
              "      <td>not disagree take money deal drug street level drug sale people nit dealer part federal population</td>\n",
              "      <td>0</td>\n",
              "    </tr>\n",
              "  </tbody>\n",
              "</table>\n",
              "</div>"
            ],
            "text/plain": [
              "                                                                                                                                                                                                                                                                                                                             raw  \\\n",
              "0                                                                                                                                    Naturally you can feel it in your urine. \\nThat's one of the common expressions in the Germanic languages and the hallmark of those who, after the fact, say they knew that all along.   ;)   \n",
              "1                                                                                                                                                                                                                                                                        Yum!  What's not to love: water+maple syrup - together.   \n",
              "2  Catou I will wager that mutual fund sales will be just as strong this RRSP season as last year.  The fact is that your typical mutual fund owner isn't going to suddenly discover DIY investing in individual stocks and salesperson at the bank isn't going to suddenly abandon the sales pitch for lower cost ETFs or GICs.   \n",
              "3                                                                                                                                                                                                                  \"The shortage of priests is not a shortage of vocations but a shortness of sight.\"\\n\\nExactly! Very well put!   \n",
              "4                                                                                                                                                               I dont disagree with that. It takes money to deal drugs. Street level drug sales people, they nit really dealers, are from many parts of the federal population.   \n",
              "\n",
              "                                                                                                                                                                                                                                                                                                                          clean  \\\n",
              "0                                                                                                                                       Naturally you can feel it in your urine. That's one of the common expressions in the Germanic languages and the hallmark of those who, after the fact, say they knew that all along. ;)   \n",
              "1                                                                                                                                                                                                                                                                        Yum! What's not to love: water+maple syrup - together.   \n",
              "2  Catou I will wager that mutual fund sales will be just as strong this RRSP season as last year. The fact is that your typical mutual fund owner isn't going to suddenly discover DIY investing in individual stocks and salesperson at the bank isn't going to suddenly abandon the sales pitch for lower cost ETFs or GICs.   \n",
              "3                                                                                                                                                                                                                    \"The shortage of priests is not a shortage of vocations but a shortness of sight.\" Exactly! Very well put!   \n",
              "4                                                                                                                                                              I dont disagree with that. It takes money to deal drugs. Street level drug sales people, they nit really dealers, are from many parts of the federal population.   \n",
              "\n",
              "                                                                                                                                                                                                                                                                                                                       clean_pp  \\\n",
              "0                                                                                                                                             naturally you can feel it in your urine that 's one of the common expressions in the germanic languages and the hallmark of those who after the fact say they knew that all along   \n",
              "1                                                                                                                                                                                                                                                                            yum what 's not to love water+maple syrup together   \n",
              "2  catou i will wager that mutual fund sales will be just as strong this rrsp season as last year the fact is that your typical mutual fund owner is n't going to suddenly discover diy investing in individual stocks and salesperson at the bank is n't going to suddenly abandon the sales pitch for lower cost etfs or gics   \n",
              "3                                                                                                                                                                                                                         the shortage of priests is not a shortage of vocations but a shortness of sight exactly very well put   \n",
              "4                                                                                                                                                                  i do nt disagree with that it takes money to deal drugs street level drug sales people they nit really dealers are from many parts of the federal population   \n",
              "\n",
              "                                                                                                                                                                                                                                                                                                 clean_pp_lemma  \\\n",
              "0                                                                                                                               naturally you can feel it in your urine that be one of the common expression in the germanic language and the hallmark of those who after the fact say they know that all along   \n",
              "1                                                                                                                                                                                                                                                            yum what be not to love water+maple syrup together   \n",
              "2  catou i will wager that mutual fund sale will be just as strong this rrsp season as last year the fact be that your typical mutual fund owner be not go to suddenly discover diy invest in individual stock and salesperson at the bank be not go to suddenly abandon the sale pitch for low cost etf or gic   \n",
              "3                                                                                                                                                                                                           the shortage of priest be not a shortage of vocation but a shortness of sight exactly very well put   \n",
              "4                                                                                                                                                       i do not disagree with that it take money to deal drug street level drug sale people they nit really dealer be from many part of the federal population   \n",
              "\n",
              "                                                                                                                                                                                     clean_pp_lemma_stop  \\\n",
              "0                                                                                                                            naturally feel urine common expression germanic language hallmark fact know   \n",
              "1                                                                                                                                                                             yum love water+maple syrup   \n",
              "2  catou wager mutual fund sale strong rrsp season year fact typical mutual fund owner go suddenly discover diy invest individual stock salesperson bank go suddenly abandon sale pitch low cost etf gic   \n",
              "3                                                                                                                                              shortage priest shortage vocation shortness sight exactly   \n",
              "4                                                                                                     not disagree take money deal drug street level drug sale people nit dealer part federal population   \n",
              "\n",
              "   toxic  \n",
              "0      0  \n",
              "1      0  \n",
              "2      0  \n",
              "3      0  \n",
              "4      0  "
            ]
          },
          "execution_count": 33,
          "metadata": {},
          "output_type": "execute_result"
        }
      ],
      "source": [
        "df_check = pd.read_csv('data/lexiguard_data.csv')\n",
        "df_check.head()"
      ]
    },
    {
      "cell_type": "code",
      "execution_count": 34,
      "metadata": {},
      "outputs": [
        {
          "data": {
            "text/plain": [
              "raw                    0\n",
              "clean                  0\n",
              "clean_pp               0\n",
              "clean_pp_lemma         0\n",
              "clean_pp_lemma_stop    0\n",
              "toxic                  0\n",
              "dtype: int64"
            ]
          },
          "execution_count": 34,
          "metadata": {},
          "output_type": "execute_result"
        }
      ],
      "source": [
        "df_check.isna().sum()"
      ]
    }
  ],
  "metadata": {
    "colab": {
      "provenance": []
    },
    "kernelspec": {
      "display_name": "Python 3",
      "name": "python3"
    },
    "language_info": {
      "codemirror_mode": {
        "name": "ipython",
        "version": 3
      },
      "file_extension": ".py",
      "mimetype": "text/x-python",
      "name": "python",
      "nbconvert_exporter": "python",
      "pygments_lexer": "ipython3",
      "version": "3.12.1"
    }
  },
  "nbformat": 4,
  "nbformat_minor": 0
}
